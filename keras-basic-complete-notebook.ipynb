{
 "cells": [
  {
   "cell_type": "code",
   "execution_count": 1,
   "id": "1f494d21",
   "metadata": {
    "execution": {
     "iopub.execute_input": "2024-09-16T10:15:13.883688Z",
     "iopub.status.busy": "2024-09-16T10:15:13.883210Z",
     "iopub.status.idle": "2024-09-16T10:15:30.977036Z",
     "shell.execute_reply": "2024-09-16T10:15:30.975606Z"
    },
    "papermill": {
     "duration": 17.114898,
     "end_time": "2024-09-16T10:15:30.979603",
     "exception": false,
     "start_time": "2024-09-16T10:15:13.864705",
     "status": "completed"
    },
    "tags": []
   },
   "outputs": [
    {
     "name": "stdout",
     "output_type": "stream",
     "text": [
      "Collecting ucimlrepo\r\n",
      "  Downloading ucimlrepo-0.0.7-py3-none-any.whl.metadata (5.5 kB)\r\n",
      "Requirement already satisfied: pandas>=1.0.0 in /opt/conda/lib/python3.10/site-packages (from ucimlrepo) (2.2.2)\r\n",
      "Requirement already satisfied: certifi>=2020.12.5 in /opt/conda/lib/python3.10/site-packages (from ucimlrepo) (2024.7.4)\r\n",
      "Requirement already satisfied: numpy>=1.22.4 in /opt/conda/lib/python3.10/site-packages (from pandas>=1.0.0->ucimlrepo) (1.26.4)\r\n",
      "Requirement already satisfied: python-dateutil>=2.8.2 in /opt/conda/lib/python3.10/site-packages (from pandas>=1.0.0->ucimlrepo) (2.9.0.post0)\r\n",
      "Requirement already satisfied: pytz>=2020.1 in /opt/conda/lib/python3.10/site-packages (from pandas>=1.0.0->ucimlrepo) (2024.1)\r\n",
      "Requirement already satisfied: tzdata>=2022.7 in /opt/conda/lib/python3.10/site-packages (from pandas>=1.0.0->ucimlrepo) (2024.1)\r\n",
      "Requirement already satisfied: six>=1.5 in /opt/conda/lib/python3.10/site-packages (from python-dateutil>=2.8.2->pandas>=1.0.0->ucimlrepo) (1.16.0)\r\n",
      "Downloading ucimlrepo-0.0.7-py3-none-any.whl (8.0 kB)\r\n",
      "Installing collected packages: ucimlrepo\r\n",
      "Successfully installed ucimlrepo-0.0.7\r\n",
      "Note: you may need to restart the kernel to use updated packages.\n"
     ]
    }
   ],
   "source": [
    "pip install ucimlrepo"
   ]
  },
  {
   "cell_type": "code",
   "execution_count": 2,
   "id": "85f790ae",
   "metadata": {
    "execution": {
     "iopub.execute_input": "2024-09-16T10:15:31.015630Z",
     "iopub.status.busy": "2024-09-16T10:15:31.015166Z",
     "iopub.status.idle": "2024-09-16T10:15:32.009703Z",
     "shell.execute_reply": "2024-09-16T10:15:32.008452Z"
    },
    "papermill": {
     "duration": 1.015814,
     "end_time": "2024-09-16T10:15:32.012710",
     "exception": false,
     "start_time": "2024-09-16T10:15:30.996896",
     "status": "completed"
    },
    "tags": []
   },
   "outputs": [
    {
     "name": "stdout",
     "output_type": "stream",
     "text": [
      "{'uci_id': 267, 'name': 'Banknote Authentication', 'repository_url': 'https://archive.ics.uci.edu/dataset/267/banknote+authentication', 'data_url': 'https://archive.ics.uci.edu/static/public/267/data.csv', 'abstract': 'Data were extracted from images that were taken for the evaluation of an authentication procedure for banknotes.', 'area': 'Computer Science', 'tasks': ['Classification'], 'characteristics': ['Multivariate'], 'num_instances': 1372, 'num_features': 4, 'feature_types': ['Real'], 'demographics': [], 'target_col': ['class'], 'index_col': None, 'has_missing_values': 'no', 'missing_values_symbol': None, 'year_of_dataset_creation': 2012, 'last_updated': 'Fri Feb 16 2024', 'dataset_doi': '10.24432/C55P57', 'creators': ['Volker Lohweg'], 'intro_paper': None, 'additional_info': {'summary': 'Data were extracted from images that were taken from genuine and forged banknote-like specimens.  For digitization, an industrial camera usually used for print inspection was used. The final images have 400x 400 pixels. Due to the object lens and distance to the investigated object gray-scale pictures with a resolution of about 660 dpi were gained. Wavelet Transform tool were used to extract features from images.  ', 'purpose': None, 'funded_by': None, 'instances_represent': None, 'recommended_data_splits': None, 'sensitive_data': None, 'preprocessing_description': None, 'variable_info': '       1. variance of Wavelet Transformed image (continuous) \\r\\n       2. skewness of Wavelet Transformed image (continuous)\\r\\n       3. curtosis of Wavelet Transformed image (continuous)\\r\\n       4. entropy of image (continuous)\\r\\n       5. class (integer) \\r\\n', 'citation': None}}\n",
      "       name     role        type demographic  \\\n",
      "0  variance  Feature  Continuous        None   \n",
      "1  skewness  Feature  Continuous        None   \n",
      "2  curtosis  Feature  Continuous        None   \n",
      "3   entropy  Feature  Continuous        None   \n",
      "4     class   Target     Integer        None   \n",
      "\n",
      "                             description units missing_values  \n",
      "0  variance of Wavelet Transformed image  None             no  \n",
      "1  skewness of Wavelet Transformed image  None             no  \n",
      "2  curtosis of Wavelet Transformed image  None             no  \n",
      "3                       entropy of image  None             no  \n",
      "4                                   None  None             no  \n"
     ]
    }
   ],
   "source": [
    "from ucimlrepo import fetch_ucirepo \n",
    "  \n",
    "# fetch dataset \n",
    "banknote_authentication = fetch_ucirepo(id=267) \n",
    "  \n",
    "# data (as pandas dataframes) \n",
    "X = banknote_authentication.data.features \n",
    "y = banknote_authentication.data.targets \n",
    "  \n",
    "# metadata \n",
    "print(banknote_authentication.metadata) \n",
    "  \n",
    "# variable information \n",
    "print(banknote_authentication.variables) "
   ]
  },
  {
   "cell_type": "markdown",
   "id": "08e39539",
   "metadata": {
    "papermill": {
     "duration": 0.016549,
     "end_time": "2024-09-16T10:15:32.046426",
     "exception": false,
     "start_time": "2024-09-16T10:15:32.029877",
     "status": "completed"
    },
    "tags": []
   },
   "source": [
    "# Keras Basics\n",
    "\n",
    "Welcome to the section on deep learning! We'll be using Keras with a TensorFlow backend to perform our deep learning operations.\n",
    "\n",
    "This means we should get familiar with some Keras fundamentals and basics!\n",
    "\n",
    "## Imports\n",
    "\n"
   ]
  },
  {
   "cell_type": "code",
   "execution_count": 3,
   "id": "61611097",
   "metadata": {
    "execution": {
     "iopub.execute_input": "2024-09-16T10:15:32.082063Z",
     "iopub.status.busy": "2024-09-16T10:15:32.081109Z",
     "iopub.status.idle": "2024-09-16T10:15:32.086182Z",
     "shell.execute_reply": "2024-09-16T10:15:32.085098Z"
    },
    "papermill": {
     "duration": 0.025571,
     "end_time": "2024-09-16T10:15:32.088605",
     "exception": false,
     "start_time": "2024-09-16T10:15:32.063034",
     "status": "completed"
    },
    "tags": []
   },
   "outputs": [],
   "source": [
    "import numpy as np"
   ]
  },
  {
   "cell_type": "markdown",
   "id": "b7d17242",
   "metadata": {
    "papermill": {
     "duration": 0.016432,
     "end_time": "2024-09-16T10:15:32.121816",
     "exception": false,
     "start_time": "2024-09-16T10:15:32.105384",
     "status": "completed"
    },
    "tags": []
   },
   "source": [
    "## Dataset\n",
    "\n",
    "We will use the Bank Authentication Data Set to start off with. This data set consists of various image features derived from images that had 400 x 400 pixels. You should note **the data itself that we will be using ARE NOT ACTUAL IMAGES**, they are **features** of images. In the next lecture we will cover grabbing and working with image data with Keras. This notebook focuses on learning the basics of building a neural network with Keras.\n",
    "\n",
    "_____\n",
    "More info on the data set:\n",
    "\n",
    "https://archive.ics.uci.edu/ml/datasets/banknote+authentication\n",
    "\n",
    "Data were extracted from images that were taken from genuine and forged banknote-like specimens. For digitization, an industrial camera usually used for print inspection was used. The final images have 400x 400 pixels. Due to the object lens and distance to the investigated object gray-scale pictures with a resolution of about 660 dpi were gained. Wavelet Transform tool were used to extract features from images.\n",
    "\n",
    "\n",
    "Attribute Information:\n",
    "\n",
    "1. variance of Wavelet Transformed image (continuous) \n",
    "2. skewness of Wavelet Transformed image (continuous) \n",
    "3. curtosis of Wavelet Transformed image (continuous) \n",
    "4. entropy of image (continuous) \n",
    "5. class (integer) \n",
    "\n",
    "## Reading in the Data Set\n",
    "\n",
    "We've already downloaded the dataset, its in the DATA folder. So let's open it up. "
   ]
  },
  {
   "cell_type": "code",
   "execution_count": 4,
   "id": "e3d39fab",
   "metadata": {
    "execution": {
     "iopub.execute_input": "2024-09-16T10:15:32.158548Z",
     "iopub.status.busy": "2024-09-16T10:15:32.157844Z",
     "iopub.status.idle": "2024-09-16T10:15:32.660713Z",
     "shell.execute_reply": "2024-09-16T10:15:32.659748Z"
    },
    "papermill": {
     "duration": 0.523894,
     "end_time": "2024-09-16T10:15:32.663370",
     "exception": false,
     "start_time": "2024-09-16T10:15:32.139476",
     "status": "completed"
    },
    "tags": []
   },
   "outputs": [],
   "source": [
    "from numpy import genfromtxt\n",
    "data = genfromtxt('https://archive.ics.uci.edu/static/public/267/data.csv', delimiter=',')\n",
    "#delimiter added beacuse this is preloaded data so it needs such features"
   ]
  },
  {
   "cell_type": "code",
   "execution_count": 5,
   "id": "906e1352",
   "metadata": {
    "execution": {
     "iopub.execute_input": "2024-09-16T10:15:32.698642Z",
     "iopub.status.busy": "2024-09-16T10:15:32.698124Z",
     "iopub.status.idle": "2024-09-16T10:15:32.708994Z",
     "shell.execute_reply": "2024-09-16T10:15:32.707682Z"
    },
    "papermill": {
     "duration": 0.031332,
     "end_time": "2024-09-16T10:15:32.711499",
     "exception": false,
     "start_time": "2024-09-16T10:15:32.680167",
     "status": "completed"
    },
    "tags": []
   },
   "outputs": [
    {
     "data": {
      "text/plain": [
       "array([[      nan,       nan,       nan,       nan,       nan],\n",
       "       [  3.6216 ,   8.6661 ,  -2.8073 ,  -0.44699,   0.     ],\n",
       "       [  4.5459 ,   8.1674 ,  -2.4586 ,  -1.4621 ,   0.     ],\n",
       "       ...,\n",
       "       [ -3.7503 , -13.4586 ,  17.5932 ,  -2.7771 ,   1.     ],\n",
       "       [ -3.5637 ,  -8.3827 ,  12.393  ,  -1.2823 ,   1.     ],\n",
       "       [ -2.5419 ,  -0.65804,   2.6842 ,   1.1952 ,   1.     ]])"
      ]
     },
     "execution_count": 5,
     "metadata": {},
     "output_type": "execute_result"
    }
   ],
   "source": [
    "data\n",
    "#0 and 1 shows authentic and false notes"
   ]
  },
  {
   "cell_type": "code",
   "execution_count": 6,
   "id": "7cdf9e26",
   "metadata": {
    "execution": {
     "iopub.execute_input": "2024-09-16T10:15:32.746960Z",
     "iopub.status.busy": "2024-09-16T10:15:32.746561Z",
     "iopub.status.idle": "2024-09-16T10:15:32.751361Z",
     "shell.execute_reply": "2024-09-16T10:15:32.750357Z"
    },
    "papermill": {
     "duration": 0.025503,
     "end_time": "2024-09-16T10:15:32.753663",
     "exception": false,
     "start_time": "2024-09-16T10:15:32.728160",
     "status": "completed"
    },
    "tags": []
   },
   "outputs": [],
   "source": [
    "labels = data[:,4]"
   ]
  },
  {
   "cell_type": "code",
   "execution_count": 7,
   "id": "55771855",
   "metadata": {
    "execution": {
     "iopub.execute_input": "2024-09-16T10:15:32.788936Z",
     "iopub.status.busy": "2024-09-16T10:15:32.788516Z",
     "iopub.status.idle": "2024-09-16T10:15:32.795970Z",
     "shell.execute_reply": "2024-09-16T10:15:32.794784Z"
    },
    "papermill": {
     "duration": 0.02756,
     "end_time": "2024-09-16T10:15:32.798109",
     "exception": false,
     "start_time": "2024-09-16T10:15:32.770549",
     "status": "completed"
    },
    "tags": []
   },
   "outputs": [
    {
     "data": {
      "text/plain": [
       "array([nan,  0.,  0., ...,  1.,  1.,  1.])"
      ]
     },
     "execution_count": 7,
     "metadata": {},
     "output_type": "execute_result"
    }
   ],
   "source": [
    "labels"
   ]
  },
  {
   "cell_type": "code",
   "execution_count": 8,
   "id": "68d23329",
   "metadata": {
    "execution": {
     "iopub.execute_input": "2024-09-16T10:15:32.833118Z",
     "iopub.status.busy": "2024-09-16T10:15:32.832702Z",
     "iopub.status.idle": "2024-09-16T10:15:32.837474Z",
     "shell.execute_reply": "2024-09-16T10:15:32.836529Z"
    },
    "papermill": {
     "duration": 0.024929,
     "end_time": "2024-09-16T10:15:32.839795",
     "exception": false,
     "start_time": "2024-09-16T10:15:32.814866",
     "status": "completed"
    },
    "tags": []
   },
   "outputs": [],
   "source": [
    "features = data[:,0:4]"
   ]
  },
  {
   "cell_type": "code",
   "execution_count": 9,
   "id": "92eb2651",
   "metadata": {
    "execution": {
     "iopub.execute_input": "2024-09-16T10:15:32.875198Z",
     "iopub.status.busy": "2024-09-16T10:15:32.874793Z",
     "iopub.status.idle": "2024-09-16T10:15:32.882121Z",
     "shell.execute_reply": "2024-09-16T10:15:32.881169Z"
    },
    "papermill": {
     "duration": 0.027911,
     "end_time": "2024-09-16T10:15:32.884631",
     "exception": false,
     "start_time": "2024-09-16T10:15:32.856720",
     "status": "completed"
    },
    "tags": []
   },
   "outputs": [
    {
     "data": {
      "text/plain": [
       "array([[      nan,       nan,       nan,       nan],\n",
       "       [  3.6216 ,   8.6661 ,  -2.8073 ,  -0.44699],\n",
       "       [  4.5459 ,   8.1674 ,  -2.4586 ,  -1.4621 ],\n",
       "       ...,\n",
       "       [ -3.7503 , -13.4586 ,  17.5932 ,  -2.7771 ],\n",
       "       [ -3.5637 ,  -8.3827 ,  12.393  ,  -1.2823 ],\n",
       "       [ -2.5419 ,  -0.65804,   2.6842 ,   1.1952 ]])"
      ]
     },
     "execution_count": 9,
     "metadata": {},
     "output_type": "execute_result"
    }
   ],
   "source": [
    "features"
   ]
  },
  {
   "cell_type": "code",
   "execution_count": 10,
   "id": "dc653aac",
   "metadata": {
    "execution": {
     "iopub.execute_input": "2024-09-16T10:15:32.920672Z",
     "iopub.status.busy": "2024-09-16T10:15:32.919903Z",
     "iopub.status.idle": "2024-09-16T10:15:32.924719Z",
     "shell.execute_reply": "2024-09-16T10:15:32.923597Z"
    },
    "papermill": {
     "duration": 0.025262,
     "end_time": "2024-09-16T10:15:32.926995",
     "exception": false,
     "start_time": "2024-09-16T10:15:32.901733",
     "status": "completed"
    },
    "tags": []
   },
   "outputs": [],
   "source": [
    "X = features\n",
    "y = labels"
   ]
  },
  {
   "cell_type": "markdown",
   "id": "b1dfc0c7",
   "metadata": {
    "papermill": {
     "duration": 0.016606,
     "end_time": "2024-09-16T10:15:32.960497",
     "exception": false,
     "start_time": "2024-09-16T10:15:32.943891",
     "status": "completed"
    },
    "tags": []
   },
   "source": [
    "## Split the Data into Training and Test\n",
    "\n",
    "Its time to split the data into a train/test set. Keep in mind, sometimes people like to split 3 ways, train/test/validation. We'll keep things simple for now. **Remember to check out the video explanation as to why we split and what all the parameters mean!**"
   ]
  },
  {
   "cell_type": "code",
   "execution_count": 11,
   "id": "ae408937",
   "metadata": {
    "execution": {
     "iopub.execute_input": "2024-09-16T10:15:32.995919Z",
     "iopub.status.busy": "2024-09-16T10:15:32.995497Z",
     "iopub.status.idle": "2024-09-16T10:15:34.253975Z",
     "shell.execute_reply": "2024-09-16T10:15:34.252843Z"
    },
    "papermill": {
     "duration": 1.279636,
     "end_time": "2024-09-16T10:15:34.256842",
     "exception": false,
     "start_time": "2024-09-16T10:15:32.977206",
     "status": "completed"
    },
    "tags": []
   },
   "outputs": [],
   "source": [
    "from sklearn.model_selection import train_test_split"
   ]
  },
  {
   "cell_type": "code",
   "execution_count": 12,
   "id": "04ba2c7f",
   "metadata": {
    "execution": {
     "iopub.execute_input": "2024-09-16T10:15:34.293436Z",
     "iopub.status.busy": "2024-09-16T10:15:34.292849Z",
     "iopub.status.idle": "2024-09-16T10:15:34.300851Z",
     "shell.execute_reply": "2024-09-16T10:15:34.299792Z"
    },
    "papermill": {
     "duration": 0.028794,
     "end_time": "2024-09-16T10:15:34.303253",
     "exception": false,
     "start_time": "2024-09-16T10:15:34.274459",
     "status": "completed"
    },
    "tags": []
   },
   "outputs": [],
   "source": [
    "X_train, X_test, y_train, y_test = train_test_split(X, y, test_size=0.33, random_state=42)"
   ]
  },
  {
   "cell_type": "code",
   "execution_count": 13,
   "id": "cf63371b",
   "metadata": {
    "execution": {
     "iopub.execute_input": "2024-09-16T10:15:34.339383Z",
     "iopub.status.busy": "2024-09-16T10:15:34.338951Z",
     "iopub.status.idle": "2024-09-16T10:15:34.346771Z",
     "shell.execute_reply": "2024-09-16T10:15:34.345732Z"
    },
    "papermill": {
     "duration": 0.028385,
     "end_time": "2024-09-16T10:15:34.349016",
     "exception": false,
     "start_time": "2024-09-16T10:15:34.320631",
     "status": "completed"
    },
    "tags": []
   },
   "outputs": [
    {
     "data": {
      "text/plain": [
       "array([[  0.74428,  -3.7723 ,   1.6131 ,   1.5754 ],\n",
       "       [  4.6464 ,  10.5326 ,  -4.5852 ,  -4.206  ],\n",
       "       [ -4.3773 ,  -5.5167 ,  10.939  ,  -0.4082 ],\n",
       "       ...,\n",
       "       [ -3.9698 ,   3.6812 ,  -0.60008,  -4.0133 ],\n",
       "       [ -5.873  ,   9.1752 ,  -0.27448,  -6.0422 ],\n",
       "       [ -3.5985 , -13.6593 ,  17.6052 ,  -2.4927 ]])"
      ]
     },
     "execution_count": 13,
     "metadata": {},
     "output_type": "execute_result"
    }
   ],
   "source": [
    "X_train\n",
    "#show length of x_train and x_test"
   ]
  },
  {
   "cell_type": "code",
   "execution_count": 14,
   "id": "f2296cf0",
   "metadata": {
    "execution": {
     "iopub.execute_input": "2024-09-16T10:15:34.385265Z",
     "iopub.status.busy": "2024-09-16T10:15:34.384856Z",
     "iopub.status.idle": "2024-09-16T10:15:34.393417Z",
     "shell.execute_reply": "2024-09-16T10:15:34.391742Z"
    },
    "papermill": {
     "duration": 0.029437,
     "end_time": "2024-09-16T10:15:34.395716",
     "exception": false,
     "start_time": "2024-09-16T10:15:34.366279",
     "status": "completed"
    },
    "tags": []
   },
   "outputs": [
    {
     "data": {
      "text/plain": [
       "array([[ 2.5503  , -4.9518  ,  6.3729  , -0.41596 ],\n",
       "       [ 1.4276  ,  8.3847  , -2.0995  , -1.9677  ],\n",
       "       [ 2.1464  ,  6.0795  , -0.5778  , -2.2302  ],\n",
       "       ...,\n",
       "       [ 2.2517  , -5.1422  ,  4.2916  , -1.2487  ],\n",
       "       [ 5.2418  , 10.5388  , -4.1174  , -4.2797  ],\n",
       "       [-0.8734  , -0.033118, -0.20165 ,  0.55774 ]])"
      ]
     },
     "execution_count": 14,
     "metadata": {},
     "output_type": "execute_result"
    }
   ],
   "source": [
    "X_test"
   ]
  },
  {
   "cell_type": "code",
   "execution_count": 15,
   "id": "eca08fdc",
   "metadata": {
    "execution": {
     "iopub.execute_input": "2024-09-16T10:15:34.432455Z",
     "iopub.status.busy": "2024-09-16T10:15:34.431956Z",
     "iopub.status.idle": "2024-09-16T10:15:34.530219Z",
     "shell.execute_reply": "2024-09-16T10:15:34.529172Z"
    },
    "papermill": {
     "duration": 0.11945,
     "end_time": "2024-09-16T10:15:34.532632",
     "exception": false,
     "start_time": "2024-09-16T10:15:34.413182",
     "status": "completed"
    },
    "tags": []
   },
   "outputs": [
    {
     "data": {
      "text/plain": [
       "array([ 1.,  0.,  1.,  0.,  0.,  1.,  0.,  0.,  1.,  0.,  0.,  0.,  1.,\n",
       "        1.,  1.,  0.,  1.,  1.,  1.,  0.,  1.,  1.,  1.,  0.,  1.,  0.,\n",
       "        0.,  1.,  0.,  0.,  0.,  1.,  0.,  1.,  0.,  0.,  0.,  0.,  0.,\n",
       "        1.,  0.,  0.,  1.,  0.,  0.,  1.,  1.,  1.,  0.,  0.,  0.,  1.,\n",
       "        1.,  1.,  1.,  1.,  1.,  1.,  0.,  0.,  0.,  0.,  0.,  0.,  1.,\n",
       "        0.,  1.,  0.,  0.,  0.,  0.,  1.,  1.,  0.,  1.,  1.,  0.,  1.,\n",
       "        0.,  1.,  1.,  1.,  1.,  1.,  1.,  1.,  1.,  1.,  1.,  1.,  0.,\n",
       "        1.,  0.,  0.,  0.,  0.,  1.,  1.,  1.,  0.,  0.,  0.,  1.,  0.,\n",
       "        1.,  1.,  1.,  1.,  0.,  0.,  0.,  0.,  0.,  0.,  0.,  0.,  0.,\n",
       "        0.,  0.,  0.,  0.,  1.,  1.,  0.,  1.,  0.,  1.,  0.,  0.,  0.,\n",
       "        0.,  0.,  1.,  1.,  0.,  0.,  0.,  0.,  0.,  0.,  0.,  0.,  0.,\n",
       "        0.,  0.,  1.,  1.,  0.,  1.,  0.,  0.,  1.,  1.,  0.,  1.,  0.,\n",
       "        0.,  1.,  0.,  1.,  1.,  0.,  0.,  0.,  0.,  0.,  0.,  1.,  0.,\n",
       "        0.,  0.,  1.,  1.,  0.,  1.,  1.,  1.,  1.,  1.,  0.,  1.,  1.,\n",
       "        0.,  0.,  1.,  1.,  0.,  1.,  1.,  0.,  1.,  1.,  0.,  0.,  0.,\n",
       "        0.,  1.,  0.,  0.,  1.,  0.,  1.,  0.,  0.,  1.,  0.,  0.,  1.,\n",
       "        1.,  0.,  0.,  1.,  1.,  0.,  1.,  1.,  1.,  0.,  0.,  0.,  1.,\n",
       "        0.,  0.,  1.,  0.,  0.,  0.,  1.,  0.,  0.,  1.,  0.,  1.,  0.,\n",
       "        0.,  0.,  0.,  0.,  1.,  1.,  0.,  0.,  1.,  0.,  0.,  1.,  0.,\n",
       "        0.,  1.,  0.,  1.,  1.,  1.,  0.,  1.,  0.,  0.,  0.,  1.,  0.,\n",
       "        0.,  1.,  1.,  1.,  0.,  1.,  0.,  1.,  1.,  0.,  0.,  1.,  1.,\n",
       "        1.,  1.,  0.,  0.,  1.,  0.,  1.,  0.,  1.,  0.,  0.,  0.,  1.,\n",
       "        0.,  1.,  1.,  0.,  0.,  1.,  0.,  1.,  0.,  1.,  0.,  1.,  0.,\n",
       "        0., nan,  0.,  1.,  0.,  1.,  1.,  1.,  1.,  1.,  1.,  0.,  0.,\n",
       "        0.,  1.,  0.,  0.,  0.,  1.,  0.,  1.,  0.,  0.,  0.,  0.,  0.,\n",
       "        1.,  0.,  1.,  1.,  0.,  1.,  0.,  0.,  1.,  0.,  0.,  0.,  0.,\n",
       "        0.,  0.,  1.,  1.,  1.,  0.,  1.,  0.,  0.,  0.,  1.,  1.,  0.,\n",
       "        0.,  1.,  0.,  1.,  0.,  0.,  0.,  0.,  0.,  0.,  1.,  1.,  1.,\n",
       "        0.,  0.,  0.,  0.,  0.,  0.,  1.,  1.,  1.,  0.,  0.,  0.,  1.,\n",
       "        1.,  1.,  1.,  0.,  0.,  1.,  0.,  0.,  0.,  1.,  0.,  0.,  1.,\n",
       "        0.,  0.,  0.,  1.,  0.,  0.,  1.,  1.,  0.,  1.,  0.,  0.,  0.,\n",
       "        1.,  1.,  0.,  1.,  0.,  0.,  1.,  0.,  0.,  1.,  0.,  1.,  1.,\n",
       "        0.,  1.,  0.,  0.,  0.,  0.,  1.,  0.,  0.,  0.,  1.,  0.,  0.,\n",
       "        0.,  0.,  0.,  1.,  1.,  0.,  1.,  0.,  0.,  0.,  0.,  0.,  0.,\n",
       "        1.,  0.,  1.,  1.,  1.,  0.,  0.,  1.,  1.,  1.,  1.,  0.,  0.,\n",
       "        1.,  0.,  0.,  1.,  0.,  0.,  0.,  1.,  0.,  1.,  0.,  0.,  0.,\n",
       "        1.,  0.,  0.,  1.,  1.,  1.,  1.,  0.,  1.,  1.,  0.,  1.,  0.,\n",
       "        1.,  0.,  0.,  0.,  1.,  0.,  1.,  1.,  1.,  1.,  0.,  0.,  1.,\n",
       "        0.,  1.,  0.,  0.,  0.,  0.,  0.,  0.,  1.,  1.,  0.,  1.,  0.,\n",
       "        0.,  1.,  0.,  1.,  0.,  1.,  1.,  1.,  0.,  1.,  0.,  1.,  1.,\n",
       "        0.,  0.,  0.,  0.,  1.,  0.,  0.,  1.,  1.,  1.,  1.,  0.,  0.,\n",
       "        0.,  0.,  0.,  1.,  1.,  0.,  0.,  1.,  0.,  0.,  0.,  1.,  1.,\n",
       "        0.,  0.,  0.,  1.,  1.,  1.,  1.,  0.,  1.,  1.,  0.,  0.,  0.,\n",
       "        1.,  1.,  0.,  0.,  1.,  1.,  0.,  0.,  1.,  0.,  0.,  0.,  0.,\n",
       "        0.,  0.,  1.,  1.,  1.,  0.,  1.,  1.,  1.,  1.,  0.,  1.,  0.,\n",
       "        1.,  1.,  0.,  1.,  1.,  1.,  0.,  1.,  0.,  0.,  0.,  0.,  1.,\n",
       "        0.,  1.,  0.,  1.,  0.,  0.,  0.,  0.,  0.,  0.,  0.,  1.,  1.,\n",
       "        1.,  0.,  1.,  0.,  0.,  1.,  0.,  1.,  0.,  0.,  1.,  1.,  0.,\n",
       "        0.,  0.,  1.,  0.,  0.,  1.,  1.,  1.,  0.,  1.,  1.,  0.,  0.,\n",
       "        0.,  0.,  1.,  1.,  1.,  0.,  1.,  0.,  0.,  0.,  1.,  0.,  0.,\n",
       "        1.,  1.,  1.,  1.,  1.,  0.,  1.,  0.,  0.,  0.,  1.,  0.,  0.,\n",
       "        0.,  1.,  0.,  1.,  1.,  0.,  1.,  0.,  1.,  1.,  1.,  1.,  0.,\n",
       "        1.,  1.,  1.,  1.,  1.,  0.,  1.,  0.,  1.,  1.,  0.,  0.,  1.,\n",
       "        0.,  0.,  0.,  0.,  1.,  1.,  0.,  1.,  1.,  0.,  0.,  1.,  1.,\n",
       "        1.,  1.,  0.,  0.,  1.,  0.,  0.,  0.,  0.,  1.,  1.,  0.,  1.,\n",
       "        0.,  1.,  1.,  0.,  0.,  1.,  1.,  0.,  0.,  0.,  1.,  0.,  0.,\n",
       "        0.,  1.,  0.,  1.,  0.,  0.,  1.,  0.,  0.,  0.,  1.,  0.,  1.,\n",
       "        1.,  1.,  0.,  1.,  0.,  0.,  0.,  0.,  0.,  1.,  1.,  1.,  1.,\n",
       "        0.,  1.,  0.,  1.,  0.,  0.,  0.,  1.,  0.,  0.,  1.,  1.,  1.,\n",
       "        0.,  1.,  0.,  0.,  0.,  1.,  1.,  0.,  1.,  0.,  1.,  0.,  1.,\n",
       "        0.,  0.,  1.,  0.,  0.,  1.,  1.,  1.,  0.,  0.,  1.,  1.,  0.,\n",
       "        1.,  1.,  1.,  1.,  0.,  0.,  1.,  0.,  0.,  0.,  1.,  0.,  0.,\n",
       "        1.,  1.,  1.,  1.,  0.,  0.,  1.,  0.,  1.,  0.,  0.,  0.,  0.,\n",
       "        0.,  0.,  1.,  1.,  0.,  1.,  0.,  0.,  0.,  1.,  1.,  0.,  0.,\n",
       "        0.,  1.,  0.,  1.,  1.,  1.,  0.,  0.,  0.,  1.,  1.,  0.,  1.,\n",
       "        1.,  0.,  1.,  0.,  0.,  0.,  0.,  0.,  1.,  0.,  1.,  1.,  1.,\n",
       "        0.,  0.,  1.,  0.,  1.,  0.,  1.,  0.,  1.,  0.,  0.,  0.,  0.,\n",
       "        0.,  1.,  0.,  1.,  0.,  0.,  1.,  1.,  1.,  0.,  1.,  0.,  1.,\n",
       "        0.,  1.,  0.,  0.,  1.,  0.,  1.,  0.,  0.,  0.,  1.,  0.,  1.,\n",
       "        0.,  1.,  1.,  0.,  1.,  0.,  1.,  1.,  0.,  1.,  1.,  0.,  0.,\n",
       "        1.,  0.,  0.,  1.,  1.,  1.,  1.,  1.,  1.])"
      ]
     },
     "execution_count": 15,
     "metadata": {},
     "output_type": "execute_result"
    }
   ],
   "source": [
    "y_train"
   ]
  },
  {
   "cell_type": "code",
   "execution_count": 16,
   "id": "64a72701",
   "metadata": {
    "execution": {
     "iopub.execute_input": "2024-09-16T10:15:34.570922Z",
     "iopub.status.busy": "2024-09-16T10:15:34.570435Z",
     "iopub.status.idle": "2024-09-16T10:15:34.582328Z",
     "shell.execute_reply": "2024-09-16T10:15:34.581330Z"
    },
    "papermill": {
     "duration": 0.034358,
     "end_time": "2024-09-16T10:15:34.584785",
     "exception": false,
     "start_time": "2024-09-16T10:15:34.550427",
     "status": "completed"
    },
    "tags": []
   },
   "outputs": [
    {
     "data": {
      "text/plain": [
       "array([0., 0., 0., 0., 0., 0., 0., 0., 0., 0., 1., 1., 0., 1., 0., 1., 1.,\n",
       "       1., 1., 1., 0., 0., 1., 0., 1., 0., 0., 1., 0., 0., 1., 0., 0., 1.,\n",
       "       1., 0., 1., 1., 1., 0., 0., 1., 1., 0., 1., 1., 1., 0., 0., 1., 0.,\n",
       "       0., 0., 0., 0., 1., 0., 0., 0., 0., 1., 0., 1., 0., 0., 0., 0., 0.,\n",
       "       0., 1., 1., 0., 1., 0., 1., 0., 0., 1., 1., 1., 1., 0., 1., 0., 0.,\n",
       "       0., 0., 1., 1., 0., 0., 0., 1., 1., 0., 1., 1., 0., 0., 0., 1., 0.,\n",
       "       0., 0., 1., 0., 0., 1., 1., 1., 1., 1., 0., 1., 1., 1., 0., 1., 1.,\n",
       "       0., 1., 0., 1., 0., 1., 0., 1., 1., 0., 1., 1., 0., 0., 0., 0., 0.,\n",
       "       1., 0., 0., 0., 0., 0., 1., 0., 1., 1., 1., 1., 1., 0., 1., 1., 1.,\n",
       "       0., 1., 0., 1., 0., 0., 0., 1., 1., 1., 1., 1., 0., 1., 0., 0., 0.,\n",
       "       0., 0., 0., 1., 0., 0., 1., 1., 0., 0., 0., 0., 1., 0., 1., 0., 1.,\n",
       "       1., 0., 0., 1., 0., 0., 1., 1., 1., 1., 0., 0., 1., 1., 1., 0., 0.,\n",
       "       1., 1., 1., 1., 0., 0., 0., 0., 0., 0., 0., 0., 0., 0., 1., 1., 1.,\n",
       "       1., 1., 0., 1., 0., 0., 1., 1., 1., 1., 0., 1., 0., 1., 1., 1., 1.,\n",
       "       0., 0., 0., 1., 0., 1., 1., 1., 0., 0., 0., 0., 0., 0., 1., 0., 1.,\n",
       "       0., 0., 0., 1., 1., 0., 0., 0., 1., 1., 0., 1., 0., 1., 1., 1., 1.,\n",
       "       0., 0., 0., 0., 0., 1., 0., 0., 1., 0., 1., 0., 0., 1., 0., 0., 0.,\n",
       "       0., 0., 1., 1., 0., 1., 0., 1., 1., 0., 0., 0., 0., 0., 0., 0., 1.,\n",
       "       1., 1., 0., 0., 1., 1., 0., 0., 0., 0., 0., 0., 1., 0., 1., 1., 1.,\n",
       "       0., 0., 0., 0., 1., 0., 0., 0., 0., 0., 0., 0., 1., 0., 1., 1., 1.,\n",
       "       1., 0., 1., 1., 0., 1., 1., 0., 0., 1., 0., 0., 1., 0., 1., 0., 1.,\n",
       "       1., 0., 0., 1., 0., 0., 0., 0., 0., 0., 1., 0., 0., 1., 0., 0., 0.,\n",
       "       0., 1., 1., 0., 1., 0., 1., 1., 1., 0., 1., 1., 0., 1., 1., 0., 1.,\n",
       "       0., 0., 0., 1., 1., 1., 0., 0., 0., 0., 1., 0., 0., 1., 1., 1., 1.,\n",
       "       0., 1., 0., 0., 1., 1., 0., 1., 0., 1., 0., 0., 0., 1., 1., 0., 0.,\n",
       "       0., 1., 0., 0., 1., 0., 0., 0., 0., 1., 0., 1., 0., 0., 1., 0., 0.,\n",
       "       0., 0., 0., 0., 1., 1., 0., 0., 0., 0., 0., 1.])"
      ]
     },
     "execution_count": 16,
     "metadata": {},
     "output_type": "execute_result"
    }
   ],
   "source": [
    "y_test"
   ]
  },
  {
   "cell_type": "markdown",
   "id": "f843a54e",
   "metadata": {
    "papermill": {
     "duration": 0.017568,
     "end_time": "2024-09-16T10:15:34.620430",
     "exception": false,
     "start_time": "2024-09-16T10:15:34.602862",
     "status": "completed"
    },
    "tags": []
   },
   "source": [
    "## Standardizing the Data\n",
    "\n",
    "Usually when using Neural Networks, you will get better performance when you standardize the data. Standardization just means normalizing the values to all fit between a certain range, like 0-1, or -1 to 1.\n",
    "\n",
    "The scikit learn library also provides a nice function for this.\n",
    "\n",
    "http://scikit-learn.org/stable/modules/generated/sklearn.preprocessing.MinMaxScaler.html"
   ]
  },
  {
   "cell_type": "code",
   "execution_count": 17,
   "id": "e2bc2290",
   "metadata": {
    "execution": {
     "iopub.execute_input": "2024-09-16T10:15:34.657859Z",
     "iopub.status.busy": "2024-09-16T10:15:34.657422Z",
     "iopub.status.idle": "2024-09-16T10:15:34.662580Z",
     "shell.execute_reply": "2024-09-16T10:15:34.661546Z"
    },
    "papermill": {
     "duration": 0.026657,
     "end_time": "2024-09-16T10:15:34.664872",
     "exception": false,
     "start_time": "2024-09-16T10:15:34.638215",
     "status": "completed"
    },
    "tags": []
   },
   "outputs": [],
   "source": [
    "from sklearn.preprocessing import MinMaxScaler"
   ]
  },
  {
   "cell_type": "code",
   "execution_count": 18,
   "id": "b75485cd",
   "metadata": {
    "execution": {
     "iopub.execute_input": "2024-09-16T10:15:34.702285Z",
     "iopub.status.busy": "2024-09-16T10:15:34.701857Z",
     "iopub.status.idle": "2024-09-16T10:15:34.707096Z",
     "shell.execute_reply": "2024-09-16T10:15:34.705878Z"
    },
    "papermill": {
     "duration": 0.026656,
     "end_time": "2024-09-16T10:15:34.709330",
     "exception": false,
     "start_time": "2024-09-16T10:15:34.682674",
     "status": "completed"
    },
    "tags": []
   },
   "outputs": [],
   "source": [
    "scaler_object = MinMaxScaler()"
   ]
  },
  {
   "cell_type": "code",
   "execution_count": 19,
   "id": "0fe800c8",
   "metadata": {
    "execution": {
     "iopub.execute_input": "2024-09-16T10:15:34.748467Z",
     "iopub.status.busy": "2024-09-16T10:15:34.747347Z",
     "iopub.status.idle": "2024-09-16T10:15:34.757998Z",
     "shell.execute_reply": "2024-09-16T10:15:34.756925Z"
    },
    "papermill": {
     "duration": 0.032375,
     "end_time": "2024-09-16T10:15:34.760247",
     "exception": false,
     "start_time": "2024-09-16T10:15:34.727872",
     "status": "completed"
    },
    "tags": []
   },
   "outputs": [
    {
     "data": {
      "text/html": [
       "<style>#sk-container-id-1 {color: black;background-color: white;}#sk-container-id-1 pre{padding: 0;}#sk-container-id-1 div.sk-toggleable {background-color: white;}#sk-container-id-1 label.sk-toggleable__label {cursor: pointer;display: block;width: 100%;margin-bottom: 0;padding: 0.3em;box-sizing: border-box;text-align: center;}#sk-container-id-1 label.sk-toggleable__label-arrow:before {content: \"▸\";float: left;margin-right: 0.25em;color: #696969;}#sk-container-id-1 label.sk-toggleable__label-arrow:hover:before {color: black;}#sk-container-id-1 div.sk-estimator:hover label.sk-toggleable__label-arrow:before {color: black;}#sk-container-id-1 div.sk-toggleable__content {max-height: 0;max-width: 0;overflow: hidden;text-align: left;background-color: #f0f8ff;}#sk-container-id-1 div.sk-toggleable__content pre {margin: 0.2em;color: black;border-radius: 0.25em;background-color: #f0f8ff;}#sk-container-id-1 input.sk-toggleable__control:checked~div.sk-toggleable__content {max-height: 200px;max-width: 100%;overflow: auto;}#sk-container-id-1 input.sk-toggleable__control:checked~label.sk-toggleable__label-arrow:before {content: \"▾\";}#sk-container-id-1 div.sk-estimator input.sk-toggleable__control:checked~label.sk-toggleable__label {background-color: #d4ebff;}#sk-container-id-1 div.sk-label input.sk-toggleable__control:checked~label.sk-toggleable__label {background-color: #d4ebff;}#sk-container-id-1 input.sk-hidden--visually {border: 0;clip: rect(1px 1px 1px 1px);clip: rect(1px, 1px, 1px, 1px);height: 1px;margin: -1px;overflow: hidden;padding: 0;position: absolute;width: 1px;}#sk-container-id-1 div.sk-estimator {font-family: monospace;background-color: #f0f8ff;border: 1px dotted black;border-radius: 0.25em;box-sizing: border-box;margin-bottom: 0.5em;}#sk-container-id-1 div.sk-estimator:hover {background-color: #d4ebff;}#sk-container-id-1 div.sk-parallel-item::after {content: \"\";width: 100%;border-bottom: 1px solid gray;flex-grow: 1;}#sk-container-id-1 div.sk-label:hover label.sk-toggleable__label {background-color: #d4ebff;}#sk-container-id-1 div.sk-serial::before {content: \"\";position: absolute;border-left: 1px solid gray;box-sizing: border-box;top: 0;bottom: 0;left: 50%;z-index: 0;}#sk-container-id-1 div.sk-serial {display: flex;flex-direction: column;align-items: center;background-color: white;padding-right: 0.2em;padding-left: 0.2em;position: relative;}#sk-container-id-1 div.sk-item {position: relative;z-index: 1;}#sk-container-id-1 div.sk-parallel {display: flex;align-items: stretch;justify-content: center;background-color: white;position: relative;}#sk-container-id-1 div.sk-item::before, #sk-container-id-1 div.sk-parallel-item::before {content: \"\";position: absolute;border-left: 1px solid gray;box-sizing: border-box;top: 0;bottom: 0;left: 50%;z-index: -1;}#sk-container-id-1 div.sk-parallel-item {display: flex;flex-direction: column;z-index: 1;position: relative;background-color: white;}#sk-container-id-1 div.sk-parallel-item:first-child::after {align-self: flex-end;width: 50%;}#sk-container-id-1 div.sk-parallel-item:last-child::after {align-self: flex-start;width: 50%;}#sk-container-id-1 div.sk-parallel-item:only-child::after {width: 0;}#sk-container-id-1 div.sk-dashed-wrapped {border: 1px dashed gray;margin: 0 0.4em 0.5em 0.4em;box-sizing: border-box;padding-bottom: 0.4em;background-color: white;}#sk-container-id-1 div.sk-label label {font-family: monospace;font-weight: bold;display: inline-block;line-height: 1.2em;}#sk-container-id-1 div.sk-label-container {text-align: center;}#sk-container-id-1 div.sk-container {/* jupyter's `normalize.less` sets `[hidden] { display: none; }` but bootstrap.min.css set `[hidden] { display: none !important; }` so we also need the `!important` here to be able to override the default hidden behavior on the sphinx rendered scikit-learn.org. See: https://github.com/scikit-learn/scikit-learn/issues/21755 */display: inline-block !important;position: relative;}#sk-container-id-1 div.sk-text-repr-fallback {display: none;}</style><div id=\"sk-container-id-1\" class=\"sk-top-container\"><div class=\"sk-text-repr-fallback\"><pre>MinMaxScaler()</pre><b>In a Jupyter environment, please rerun this cell to show the HTML representation or trust the notebook. <br />On GitHub, the HTML representation is unable to render, please try loading this page with nbviewer.org.</b></div><div class=\"sk-container\" hidden><div class=\"sk-item\"><div class=\"sk-estimator sk-toggleable\"><input class=\"sk-toggleable__control sk-hidden--visually\" id=\"sk-estimator-id-1\" type=\"checkbox\" checked><label for=\"sk-estimator-id-1\" class=\"sk-toggleable__label sk-toggleable__label-arrow\">MinMaxScaler</label><div class=\"sk-toggleable__content\"><pre>MinMaxScaler()</pre></div></div></div></div></div>"
      ],
      "text/plain": [
       "MinMaxScaler()"
      ]
     },
     "execution_count": 19,
     "metadata": {},
     "output_type": "execute_result"
    }
   ],
   "source": [
    "scaler_object.fit(X_train)\n",
    "#just finds out the min and the max for the data that you want to fit"
   ]
  },
  {
   "cell_type": "code",
   "execution_count": 20,
   "id": "075debee",
   "metadata": {
    "execution": {
     "iopub.execute_input": "2024-09-16T10:15:34.798375Z",
     "iopub.status.busy": "2024-09-16T10:15:34.797954Z",
     "iopub.status.idle": "2024-09-16T10:15:34.803762Z",
     "shell.execute_reply": "2024-09-16T10:15:34.802826Z"
    },
    "papermill": {
     "duration": 0.027409,
     "end_time": "2024-09-16T10:15:34.805990",
     "exception": false,
     "start_time": "2024-09-16T10:15:34.778581",
     "status": "completed"
    },
    "tags": []
   },
   "outputs": [],
   "source": [
    "scaled_X_train = scaler_object.transform(X_train)\n",
    "#this operation gives us scaler transformed data"
   ]
  },
  {
   "cell_type": "code",
   "execution_count": 21,
   "id": "5b2fbf88",
   "metadata": {
    "execution": {
     "iopub.execute_input": "2024-09-16T10:15:34.844158Z",
     "iopub.status.busy": "2024-09-16T10:15:34.843420Z",
     "iopub.status.idle": "2024-09-16T10:15:34.848755Z",
     "shell.execute_reply": "2024-09-16T10:15:34.847726Z"
    },
    "papermill": {
     "duration": 0.026939,
     "end_time": "2024-09-16T10:15:34.850985",
     "exception": false,
     "start_time": "2024-09-16T10:15:34.824046",
     "status": "completed"
    },
    "tags": []
   },
   "outputs": [],
   "source": [
    "scaled_X_test = scaler_object.transform(X_test)"
   ]
  },
  {
   "cell_type": "markdown",
   "id": "e6f57bd6",
   "metadata": {
    "papermill": {
     "duration": 0.017694,
     "end_time": "2024-09-16T10:15:34.886863",
     "exception": false,
     "start_time": "2024-09-16T10:15:34.869169",
     "status": "completed"
    },
    "tags": []
   },
   "source": [
    "Ok, now we have the data scaled!"
   ]
  },
  {
   "cell_type": "code",
   "execution_count": 22,
   "id": "af8ae844",
   "metadata": {
    "execution": {
     "iopub.execute_input": "2024-09-16T10:15:34.925169Z",
     "iopub.status.busy": "2024-09-16T10:15:34.924219Z",
     "iopub.status.idle": "2024-09-16T10:15:34.931684Z",
     "shell.execute_reply": "2024-09-16T10:15:34.930599Z"
    },
    "papermill": {
     "duration": 0.029176,
     "end_time": "2024-09-16T10:15:34.934040",
     "exception": false,
     "start_time": "2024-09-16T10:15:34.904864",
     "status": "completed"
    },
    "tags": []
   },
   "outputs": [
    {
     "data": {
      "text/plain": [
       "nan"
      ]
     },
     "execution_count": 22,
     "metadata": {},
     "output_type": "execute_result"
    }
   ],
   "source": [
    "X_train.max()"
   ]
  },
  {
   "cell_type": "code",
   "execution_count": 23,
   "id": "b3756259",
   "metadata": {
    "execution": {
     "iopub.execute_input": "2024-09-16T10:15:34.972139Z",
     "iopub.status.busy": "2024-09-16T10:15:34.971711Z",
     "iopub.status.idle": "2024-09-16T10:15:34.978832Z",
     "shell.execute_reply": "2024-09-16T10:15:34.977841Z"
    },
    "papermill": {
     "duration": 0.028841,
     "end_time": "2024-09-16T10:15:34.981108",
     "exception": false,
     "start_time": "2024-09-16T10:15:34.952267",
     "status": "completed"
    },
    "tags": []
   },
   "outputs": [
    {
     "data": {
      "text/plain": [
       "nan"
      ]
     },
     "execution_count": 23,
     "metadata": {},
     "output_type": "execute_result"
    }
   ],
   "source": [
    "scaled_X_train.max()"
   ]
  },
  {
   "cell_type": "code",
   "execution_count": 24,
   "id": "eef9a181",
   "metadata": {
    "execution": {
     "iopub.execute_input": "2024-09-16T10:15:35.020409Z",
     "iopub.status.busy": "2024-09-16T10:15:35.019968Z",
     "iopub.status.idle": "2024-09-16T10:15:35.027427Z",
     "shell.execute_reply": "2024-09-16T10:15:35.026461Z"
    },
    "papermill": {
     "duration": 0.029732,
     "end_time": "2024-09-16T10:15:35.029706",
     "exception": false,
     "start_time": "2024-09-16T10:15:34.999974",
     "status": "completed"
    },
    "tags": []
   },
   "outputs": [
    {
     "data": {
      "text/plain": [
       "array([[  0.74428,  -3.7723 ,   1.6131 ,   1.5754 ],\n",
       "       [  4.6464 ,  10.5326 ,  -4.5852 ,  -4.206  ],\n",
       "       [ -4.3773 ,  -5.5167 ,  10.939  ,  -0.4082 ],\n",
       "       ...,\n",
       "       [ -3.9698 ,   3.6812 ,  -0.60008,  -4.0133 ],\n",
       "       [ -5.873  ,   9.1752 ,  -0.27448,  -6.0422 ],\n",
       "       [ -3.5985 , -13.6593 ,  17.6052 ,  -2.4927 ]])"
      ]
     },
     "execution_count": 24,
     "metadata": {},
     "output_type": "execute_result"
    }
   ],
   "source": [
    "X_train"
   ]
  },
  {
   "cell_type": "code",
   "execution_count": 25,
   "id": "a2e341b5",
   "metadata": {
    "execution": {
     "iopub.execute_input": "2024-09-16T10:15:35.069681Z",
     "iopub.status.busy": "2024-09-16T10:15:35.068545Z",
     "iopub.status.idle": "2024-09-16T10:15:35.076735Z",
     "shell.execute_reply": "2024-09-16T10:15:35.075648Z"
    },
    "papermill": {
     "duration": 0.030718,
     "end_time": "2024-09-16T10:15:35.079150",
     "exception": false,
     "start_time": "2024-09-16T10:15:35.048432",
     "status": "completed"
    },
    "tags": []
   },
   "outputs": [
    {
     "data": {
      "text/plain": [
       "array([[0.56150834, 0.37421561, 0.2950746 , 0.92051975],\n",
       "       [0.84290649, 0.90948448, 0.02725195, 0.39482801],\n",
       "       [0.19216984, 0.30894266, 0.69803788, 0.74015476],\n",
       "       ...,\n",
       "       [0.22155637, 0.65311491, 0.1994452 , 0.41234985],\n",
       "       [0.08430868, 0.85869252, 0.21351406, 0.22786583],\n",
       "       [0.24833236, 0.00425823, 0.98607804, 0.55061513]])"
      ]
     },
     "execution_count": 25,
     "metadata": {},
     "output_type": "execute_result"
    }
   ],
   "source": [
    "scaled_X_train"
   ]
  },
  {
   "cell_type": "markdown",
   "id": "61008c21",
   "metadata": {
    "papermill": {
     "duration": 0.018676,
     "end_time": "2024-09-16T10:15:35.116885",
     "exception": false,
     "start_time": "2024-09-16T10:15:35.098209",
     "status": "completed"
    },
    "tags": []
   },
   "source": [
    "## Building the Network with Keras\n",
    "\n",
    "Let's build a simple neural network!"
   ]
  },
  {
   "cell_type": "code",
   "execution_count": 26,
   "id": "fe21f8f7",
   "metadata": {
    "execution": {
     "iopub.execute_input": "2024-09-16T10:15:35.156846Z",
     "iopub.status.busy": "2024-09-16T10:15:35.156408Z",
     "iopub.status.idle": "2024-09-16T10:15:48.890766Z",
     "shell.execute_reply": "2024-09-16T10:15:48.889780Z"
    },
    "papermill": {
     "duration": 13.757696,
     "end_time": "2024-09-16T10:15:48.893581",
     "exception": false,
     "start_time": "2024-09-16T10:15:35.135885",
     "status": "completed"
    },
    "tags": []
   },
   "outputs": [],
   "source": [
    "from keras.models import Sequential\n",
    "from keras.layers import Dense"
   ]
  },
  {
   "cell_type": "code",
   "execution_count": 27,
   "id": "66743514",
   "metadata": {
    "execution": {
     "iopub.execute_input": "2024-09-16T10:15:48.934317Z",
     "iopub.status.busy": "2024-09-16T10:15:48.933631Z",
     "iopub.status.idle": "2024-09-16T10:15:49.024227Z",
     "shell.execute_reply": "2024-09-16T10:15:49.023080Z"
    },
    "papermill": {
     "duration": 0.113953,
     "end_time": "2024-09-16T10:15:49.026883",
     "exception": false,
     "start_time": "2024-09-16T10:15:48.912930",
     "status": "completed"
    },
    "tags": []
   },
   "outputs": [
    {
     "name": "stderr",
     "output_type": "stream",
     "text": [
      "/opt/conda/lib/python3.10/site-packages/keras/src/layers/core/dense.py:87: UserWarning: Do not pass an `input_shape`/`input_dim` argument to a layer. When using Sequential models, prefer using an `Input(shape)` object as the first layer in the model instead.\n",
      "  super().__init__(activity_regularizer=activity_regularizer, **kwargs)\n"
     ]
    }
   ],
   "source": [
    "# Creates model\n",
    "model = Sequential()\n",
    "# 8 Neurons, expects input of 4 features. \n",
    "# Play around with the number of neurons!!\n",
    "model.add(Dense(4, input_dim=4, activation='relu'))\n",
    "# Add another Densely Connected layer (every neuron connected to every neuron in the next layer)\n",
    "model.add(Dense(8, activation='relu'))\n",
    "# Last layer simple sigmoid function to output 0 or 1 (our label)\n",
    "model.add(Dense(1, activation='sigmoid'))"
   ]
  },
  {
   "cell_type": "markdown",
   "id": "985e7d81",
   "metadata": {
    "papermill": {
     "duration": 0.01843,
     "end_time": "2024-09-16T10:15:49.064270",
     "exception": false,
     "start_time": "2024-09-16T10:15:49.045840",
     "status": "completed"
    },
    "tags": []
   },
   "source": [
    "### Compile Model"
   ]
  },
  {
   "cell_type": "code",
   "execution_count": 28,
   "id": "a79e78bd",
   "metadata": {
    "execution": {
     "iopub.execute_input": "2024-09-16T10:15:49.103603Z",
     "iopub.status.busy": "2024-09-16T10:15:49.103151Z",
     "iopub.status.idle": "2024-09-16T10:15:49.118418Z",
     "shell.execute_reply": "2024-09-16T10:15:49.117412Z"
    },
    "papermill": {
     "duration": 0.037993,
     "end_time": "2024-09-16T10:15:49.121036",
     "exception": false,
     "start_time": "2024-09-16T10:15:49.083043",
     "status": "completed"
    },
    "tags": []
   },
   "outputs": [],
   "source": [
    "model.compile(loss='binary_crossentropy', optimizer='adam', metrics=['accuracy'])"
   ]
  },
  {
   "cell_type": "markdown",
   "id": "5841c2d5",
   "metadata": {
    "papermill": {
     "duration": 0.070574,
     "end_time": "2024-09-16T10:15:49.210601",
     "exception": false,
     "start_time": "2024-09-16T10:15:49.140027",
     "status": "completed"
    },
    "tags": []
   },
   "source": [
    "## Fit (Train) the Model"
   ]
  },
  {
   "cell_type": "code",
   "execution_count": 29,
   "id": "e0d66e0c",
   "metadata": {
    "execution": {
     "iopub.execute_input": "2024-09-16T10:15:49.251554Z",
     "iopub.status.busy": "2024-09-16T10:15:49.251090Z",
     "iopub.status.idle": "2024-09-16T10:15:53.984561Z",
     "shell.execute_reply": "2024-09-16T10:15:53.983458Z"
    },
    "papermill": {
     "duration": 4.756526,
     "end_time": "2024-09-16T10:15:53.986797",
     "exception": false,
     "start_time": "2024-09-16T10:15:49.230271",
     "status": "completed"
    },
    "tags": []
   },
   "outputs": [
    {
     "name": "stdout",
     "output_type": "stream",
     "text": [
      "Epoch 1/50\n",
      "29/29 - 1s - 46ms/step - accuracy: 0.5582 - loss: nan\n",
      "Epoch 2/50\n",
      "29/29 - 0s - 2ms/step - accuracy: 0.5495 - loss: nan\n",
      "Epoch 3/50\n",
      "29/29 - 0s - 2ms/step - accuracy: 0.5495 - loss: nan\n",
      "Epoch 4/50\n",
      "29/29 - 0s - 2ms/step - accuracy: 0.5495 - loss: nan\n",
      "Epoch 5/50\n",
      "29/29 - 0s - 2ms/step - accuracy: 0.5495 - loss: nan\n",
      "Epoch 6/50\n",
      "29/29 - 0s - 3ms/step - accuracy: 0.5495 - loss: nan\n",
      "Epoch 7/50\n",
      "29/29 - 0s - 2ms/step - accuracy: 0.5495 - loss: nan\n",
      "Epoch 8/50\n",
      "29/29 - 0s - 2ms/step - accuracy: 0.5495 - loss: nan\n",
      "Epoch 9/50\n",
      "29/29 - 0s - 2ms/step - accuracy: 0.5495 - loss: nan\n",
      "Epoch 10/50\n",
      "29/29 - 0s - 2ms/step - accuracy: 0.5495 - loss: nan\n",
      "Epoch 11/50\n",
      "29/29 - 0s - 2ms/step - accuracy: 0.5495 - loss: nan\n",
      "Epoch 12/50\n",
      "29/29 - 0s - 2ms/step - accuracy: 0.5495 - loss: nan\n",
      "Epoch 13/50\n",
      "29/29 - 0s - 2ms/step - accuracy: 0.5495 - loss: nan\n",
      "Epoch 14/50\n",
      "29/29 - 0s - 2ms/step - accuracy: 0.5495 - loss: nan\n",
      "Epoch 15/50\n",
      "29/29 - 0s - 2ms/step - accuracy: 0.5495 - loss: nan\n",
      "Epoch 16/50\n",
      "29/29 - 0s - 2ms/step - accuracy: 0.5495 - loss: nan\n",
      "Epoch 17/50\n",
      "29/29 - 0s - 2ms/step - accuracy: 0.5495 - loss: nan\n",
      "Epoch 18/50\n",
      "29/29 - 0s - 2ms/step - accuracy: 0.5495 - loss: nan\n",
      "Epoch 19/50\n",
      "29/29 - 0s - 2ms/step - accuracy: 0.5495 - loss: nan\n",
      "Epoch 20/50\n",
      "29/29 - 0s - 2ms/step - accuracy: 0.5495 - loss: nan\n",
      "Epoch 21/50\n",
      "29/29 - 0s - 2ms/step - accuracy: 0.5495 - loss: nan\n",
      "Epoch 22/50\n",
      "29/29 - 0s - 2ms/step - accuracy: 0.5495 - loss: nan\n",
      "Epoch 23/50\n",
      "29/29 - 0s - 2ms/step - accuracy: 0.5495 - loss: nan\n",
      "Epoch 24/50\n",
      "29/29 - 0s - 2ms/step - accuracy: 0.5495 - loss: nan\n",
      "Epoch 25/50\n",
      "29/29 - 0s - 2ms/step - accuracy: 0.5495 - loss: nan\n",
      "Epoch 26/50\n",
      "29/29 - 0s - 2ms/step - accuracy: 0.5495 - loss: nan\n",
      "Epoch 27/50\n",
      "29/29 - 0s - 2ms/step - accuracy: 0.5495 - loss: nan\n",
      "Epoch 28/50\n",
      "29/29 - 0s - 2ms/step - accuracy: 0.5495 - loss: nan\n",
      "Epoch 29/50\n",
      "29/29 - 0s - 2ms/step - accuracy: 0.5495 - loss: nan\n",
      "Epoch 30/50\n",
      "29/29 - 0s - 2ms/step - accuracy: 0.5495 - loss: nan\n",
      "Epoch 31/50\n",
      "29/29 - 0s - 2ms/step - accuracy: 0.5495 - loss: nan\n",
      "Epoch 32/50\n",
      "29/29 - 0s - 2ms/step - accuracy: 0.5495 - loss: nan\n",
      "Epoch 33/50\n",
      "29/29 - 0s - 2ms/step - accuracy: 0.5495 - loss: nan\n",
      "Epoch 34/50\n",
      "29/29 - 0s - 2ms/step - accuracy: 0.5495 - loss: nan\n",
      "Epoch 35/50\n",
      "29/29 - 0s - 2ms/step - accuracy: 0.5495 - loss: nan\n",
      "Epoch 36/50\n",
      "29/29 - 0s - 2ms/step - accuracy: 0.5495 - loss: nan\n",
      "Epoch 37/50\n",
      "29/29 - 0s - 2ms/step - accuracy: 0.5495 - loss: nan\n",
      "Epoch 38/50\n",
      "29/29 - 0s - 2ms/step - accuracy: 0.5495 - loss: nan\n",
      "Epoch 39/50\n",
      "29/29 - 0s - 2ms/step - accuracy: 0.5495 - loss: nan\n",
      "Epoch 40/50\n",
      "29/29 - 0s - 2ms/step - accuracy: 0.5495 - loss: nan\n",
      "Epoch 41/50\n",
      "29/29 - 0s - 2ms/step - accuracy: 0.5495 - loss: nan\n",
      "Epoch 42/50\n",
      "29/29 - 0s - 2ms/step - accuracy: 0.5495 - loss: nan\n",
      "Epoch 43/50\n",
      "29/29 - 0s - 2ms/step - accuracy: 0.5495 - loss: nan\n",
      "Epoch 44/50\n",
      "29/29 - 0s - 2ms/step - accuracy: 0.5495 - loss: nan\n",
      "Epoch 45/50\n",
      "29/29 - 0s - 2ms/step - accuracy: 0.5495 - loss: nan\n",
      "Epoch 46/50\n",
      "29/29 - 0s - 2ms/step - accuracy: 0.5495 - loss: nan\n",
      "Epoch 47/50\n",
      "29/29 - 0s - 2ms/step - accuracy: 0.5495 - loss: nan\n",
      "Epoch 48/50\n",
      "29/29 - 0s - 2ms/step - accuracy: 0.5495 - loss: nan\n",
      "Epoch 49/50\n",
      "29/29 - 0s - 2ms/step - accuracy: 0.5495 - loss: nan\n",
      "Epoch 50/50\n",
      "29/29 - 0s - 5ms/step - accuracy: 0.5495 - loss: nan\n"
     ]
    },
    {
     "data": {
      "text/plain": [
       "<keras.src.callbacks.history.History at 0x7b49486b2e60>"
      ]
     },
     "execution_count": 29,
     "metadata": {},
     "output_type": "execute_result"
    }
   ],
   "source": [
    "# Play around with number of epochs as well!\n",
    "model.fit(scaled_X_train,y_train,epochs=50, verbose=2)"
   ]
  },
  {
   "cell_type": "markdown",
   "id": "1f162069",
   "metadata": {
    "papermill": {
     "duration": 0.028291,
     "end_time": "2024-09-16T10:15:54.043295",
     "exception": false,
     "start_time": "2024-09-16T10:15:54.015004",
     "status": "completed"
    },
    "tags": []
   },
   "source": [
    "## Predicting New Unseen Data\n",
    "\n",
    "Let's see how we did by predicting on **new data**. Remember, our model has **never** seen the test data that we scaled previously! This process is the exact same process you would use on totally brand new data. For example , a brand new bank note that you just analyzed ."
   ]
  },
  {
   "cell_type": "code",
   "execution_count": 30,
   "id": "5aac87ad",
   "metadata": {
    "execution": {
     "iopub.execute_input": "2024-09-16T10:15:54.101201Z",
     "iopub.status.busy": "2024-09-16T10:15:54.100762Z",
     "iopub.status.idle": "2024-09-16T10:15:54.108349Z",
     "shell.execute_reply": "2024-09-16T10:15:54.107339Z"
    },
    "papermill": {
     "duration": 0.039309,
     "end_time": "2024-09-16T10:15:54.110676",
     "exception": false,
     "start_time": "2024-09-16T10:15:54.071367",
     "status": "completed"
    },
    "tags": []
   },
   "outputs": [
    {
     "data": {
      "text/plain": [
       "array([[0.69174798, 0.33008041, 0.50074104, 0.73944916],\n",
       "       [0.6107854 , 0.82911314, 0.13465668, 0.59835238],\n",
       "       [0.66262106, 0.74285586, 0.20040789, 0.57448376],\n",
       "       ...,\n",
       "       [0.67021468, 0.32295592, 0.41081004, 0.66372969],\n",
       "       [0.88584327, 0.90971648, 0.04746514, 0.38812661],\n",
       "       [0.44485069, 0.51413045, 0.21666098, 0.82798585]])"
      ]
     },
     "execution_count": 30,
     "metadata": {},
     "output_type": "execute_result"
    }
   ],
   "source": [
    "scaled_X_test"
   ]
  },
  {
   "cell_type": "code",
   "execution_count": 31,
   "id": "752a2bb3",
   "metadata": {
    "execution": {
     "iopub.execute_input": "2024-09-16T10:15:54.168635Z",
     "iopub.status.busy": "2024-09-16T10:15:54.168174Z",
     "iopub.status.idle": "2024-09-16T10:15:54.172908Z",
     "shell.execute_reply": "2024-09-16T10:15:54.171898Z"
    },
    "papermill": {
     "duration": 0.036353,
     "end_time": "2024-09-16T10:15:54.175149",
     "exception": false,
     "start_time": "2024-09-16T10:15:54.138796",
     "status": "completed"
    },
    "tags": []
   },
   "outputs": [],
   "source": [
    "# Spits out probabilities by default.\n",
    "# model.predict(scaled_X_test)"
   ]
  },
  {
   "cell_type": "code",
   "execution_count": 32,
   "id": "a344db73",
   "metadata": {
    "execution": {
     "iopub.execute_input": "2024-09-16T10:15:54.234621Z",
     "iopub.status.busy": "2024-09-16T10:15:54.233539Z",
     "iopub.status.idle": "2024-09-16T10:15:54.418317Z",
     "shell.execute_reply": "2024-09-16T10:15:54.416982Z"
    },
    "papermill": {
     "duration": 0.217155,
     "end_time": "2024-09-16T10:15:54.421109",
     "exception": false,
     "start_time": "2024-09-16T10:15:54.203954",
     "status": "completed"
    },
    "tags": []
   },
   "outputs": [
    {
     "name": "stdout",
     "output_type": "stream",
     "text": [
      "\u001b[1m15/15\u001b[0m \u001b[32m━━━━━━━━━━━━━━━━━━━━\u001b[0m\u001b[37m\u001b[0m \u001b[1m0s\u001b[0m 4ms/step\n"
     ]
    }
   ],
   "source": [
    "# Assuming model is your Keras Sequential model\n",
    "predictions = model.predict(scaled_X_test)\n",
    "predicted_classes = np.where(predictions > 0.5, 1, 0)"
   ]
  },
  {
   "cell_type": "code",
   "execution_count": 33,
   "id": "9037957c",
   "metadata": {
    "execution": {
     "iopub.execute_input": "2024-09-16T10:15:54.481991Z",
     "iopub.status.busy": "2024-09-16T10:15:54.481503Z",
     "iopub.status.idle": "2024-09-16T10:15:54.487932Z",
     "shell.execute_reply": "2024-09-16T10:15:54.486877Z"
    },
    "papermill": {
     "duration": 0.040455,
     "end_time": "2024-09-16T10:15:54.490609",
     "exception": false,
     "start_time": "2024-09-16T10:15:54.450154",
     "status": "completed"
    },
    "tags": []
   },
   "outputs": [
    {
     "name": "stdout",
     "output_type": "stream",
     "text": [
      "[[nan]\n",
      " [nan]\n",
      " [nan]\n",
      " [nan]\n",
      " [nan]]\n"
     ]
    }
   ],
   "source": [
    "# Print the predicted probabilities for the first 5 samples\n",
    "print(predictions[:5])"
   ]
  },
  {
   "cell_type": "code",
   "execution_count": 34,
   "id": "2e24e1d6",
   "metadata": {
    "execution": {
     "iopub.execute_input": "2024-09-16T10:15:54.550175Z",
     "iopub.status.busy": "2024-09-16T10:15:54.549241Z",
     "iopub.status.idle": "2024-09-16T10:15:54.562953Z",
     "shell.execute_reply": "2024-09-16T10:15:54.561826Z"
    },
    "papermill": {
     "duration": 0.045942,
     "end_time": "2024-09-16T10:15:54.565259",
     "exception": false,
     "start_time": "2024-09-16T10:15:54.519317",
     "status": "completed"
    },
    "tags": []
   },
   "outputs": [
    {
     "data": {
      "text/plain": [
       "array([[0],\n",
       "       [0],\n",
       "       [0],\n",
       "       [0],\n",
       "       [0],\n",
       "       [0],\n",
       "       [0],\n",
       "       [0],\n",
       "       [0],\n",
       "       [0],\n",
       "       [0],\n",
       "       [0],\n",
       "       [0],\n",
       "       [0],\n",
       "       [0],\n",
       "       [0],\n",
       "       [0],\n",
       "       [0],\n",
       "       [0],\n",
       "       [0],\n",
       "       [0],\n",
       "       [0],\n",
       "       [0],\n",
       "       [0],\n",
       "       [0],\n",
       "       [0],\n",
       "       [0],\n",
       "       [0],\n",
       "       [0],\n",
       "       [0],\n",
       "       [0],\n",
       "       [0],\n",
       "       [0],\n",
       "       [0],\n",
       "       [0],\n",
       "       [0],\n",
       "       [0],\n",
       "       [0],\n",
       "       [0],\n",
       "       [0],\n",
       "       [0],\n",
       "       [0],\n",
       "       [0],\n",
       "       [0],\n",
       "       [0],\n",
       "       [0],\n",
       "       [0],\n",
       "       [0],\n",
       "       [0],\n",
       "       [0],\n",
       "       [0],\n",
       "       [0],\n",
       "       [0],\n",
       "       [0],\n",
       "       [0],\n",
       "       [0],\n",
       "       [0],\n",
       "       [0],\n",
       "       [0],\n",
       "       [0],\n",
       "       [0],\n",
       "       [0],\n",
       "       [0],\n",
       "       [0],\n",
       "       [0],\n",
       "       [0],\n",
       "       [0],\n",
       "       [0],\n",
       "       [0],\n",
       "       [0],\n",
       "       [0],\n",
       "       [0],\n",
       "       [0],\n",
       "       [0],\n",
       "       [0],\n",
       "       [0],\n",
       "       [0],\n",
       "       [0],\n",
       "       [0],\n",
       "       [0],\n",
       "       [0],\n",
       "       [0],\n",
       "       [0],\n",
       "       [0],\n",
       "       [0],\n",
       "       [0],\n",
       "       [0],\n",
       "       [0],\n",
       "       [0],\n",
       "       [0],\n",
       "       [0],\n",
       "       [0],\n",
       "       [0],\n",
       "       [0],\n",
       "       [0],\n",
       "       [0],\n",
       "       [0],\n",
       "       [0],\n",
       "       [0],\n",
       "       [0],\n",
       "       [0],\n",
       "       [0],\n",
       "       [0],\n",
       "       [0],\n",
       "       [0],\n",
       "       [0],\n",
       "       [0],\n",
       "       [0],\n",
       "       [0],\n",
       "       [0],\n",
       "       [0],\n",
       "       [0],\n",
       "       [0],\n",
       "       [0],\n",
       "       [0],\n",
       "       [0],\n",
       "       [0],\n",
       "       [0],\n",
       "       [0],\n",
       "       [0],\n",
       "       [0],\n",
       "       [0],\n",
       "       [0],\n",
       "       [0],\n",
       "       [0],\n",
       "       [0],\n",
       "       [0],\n",
       "       [0],\n",
       "       [0],\n",
       "       [0],\n",
       "       [0],\n",
       "       [0],\n",
       "       [0],\n",
       "       [0],\n",
       "       [0],\n",
       "       [0],\n",
       "       [0],\n",
       "       [0],\n",
       "       [0],\n",
       "       [0],\n",
       "       [0],\n",
       "       [0],\n",
       "       [0],\n",
       "       [0],\n",
       "       [0],\n",
       "       [0],\n",
       "       [0],\n",
       "       [0],\n",
       "       [0],\n",
       "       [0],\n",
       "       [0],\n",
       "       [0],\n",
       "       [0],\n",
       "       [0],\n",
       "       [0],\n",
       "       [0],\n",
       "       [0],\n",
       "       [0],\n",
       "       [0],\n",
       "       [0],\n",
       "       [0],\n",
       "       [0],\n",
       "       [0],\n",
       "       [0],\n",
       "       [0],\n",
       "       [0],\n",
       "       [0],\n",
       "       [0],\n",
       "       [0],\n",
       "       [0],\n",
       "       [0],\n",
       "       [0],\n",
       "       [0],\n",
       "       [0],\n",
       "       [0],\n",
       "       [0],\n",
       "       [0],\n",
       "       [0],\n",
       "       [0],\n",
       "       [0],\n",
       "       [0],\n",
       "       [0],\n",
       "       [0],\n",
       "       [0],\n",
       "       [0],\n",
       "       [0],\n",
       "       [0],\n",
       "       [0],\n",
       "       [0],\n",
       "       [0],\n",
       "       [0],\n",
       "       [0],\n",
       "       [0],\n",
       "       [0],\n",
       "       [0],\n",
       "       [0],\n",
       "       [0],\n",
       "       [0],\n",
       "       [0],\n",
       "       [0],\n",
       "       [0],\n",
       "       [0],\n",
       "       [0],\n",
       "       [0],\n",
       "       [0],\n",
       "       [0],\n",
       "       [0],\n",
       "       [0],\n",
       "       [0],\n",
       "       [0],\n",
       "       [0],\n",
       "       [0],\n",
       "       [0],\n",
       "       [0],\n",
       "       [0],\n",
       "       [0],\n",
       "       [0],\n",
       "       [0],\n",
       "       [0],\n",
       "       [0],\n",
       "       [0],\n",
       "       [0],\n",
       "       [0],\n",
       "       [0],\n",
       "       [0],\n",
       "       [0],\n",
       "       [0],\n",
       "       [0],\n",
       "       [0],\n",
       "       [0],\n",
       "       [0],\n",
       "       [0],\n",
       "       [0],\n",
       "       [0],\n",
       "       [0],\n",
       "       [0],\n",
       "       [0],\n",
       "       [0],\n",
       "       [0],\n",
       "       [0],\n",
       "       [0],\n",
       "       [0],\n",
       "       [0],\n",
       "       [0],\n",
       "       [0],\n",
       "       [0],\n",
       "       [0],\n",
       "       [0],\n",
       "       [0],\n",
       "       [0],\n",
       "       [0],\n",
       "       [0],\n",
       "       [0],\n",
       "       [0],\n",
       "       [0],\n",
       "       [0],\n",
       "       [0],\n",
       "       [0],\n",
       "       [0],\n",
       "       [0],\n",
       "       [0],\n",
       "       [0],\n",
       "       [0],\n",
       "       [0],\n",
       "       [0],\n",
       "       [0],\n",
       "       [0],\n",
       "       [0],\n",
       "       [0],\n",
       "       [0],\n",
       "       [0],\n",
       "       [0],\n",
       "       [0],\n",
       "       [0],\n",
       "       [0],\n",
       "       [0],\n",
       "       [0],\n",
       "       [0],\n",
       "       [0],\n",
       "       [0],\n",
       "       [0],\n",
       "       [0],\n",
       "       [0],\n",
       "       [0],\n",
       "       [0],\n",
       "       [0],\n",
       "       [0],\n",
       "       [0],\n",
       "       [0],\n",
       "       [0],\n",
       "       [0],\n",
       "       [0],\n",
       "       [0],\n",
       "       [0],\n",
       "       [0],\n",
       "       [0],\n",
       "       [0],\n",
       "       [0],\n",
       "       [0],\n",
       "       [0],\n",
       "       [0],\n",
       "       [0],\n",
       "       [0],\n",
       "       [0],\n",
       "       [0],\n",
       "       [0],\n",
       "       [0],\n",
       "       [0],\n",
       "       [0],\n",
       "       [0],\n",
       "       [0],\n",
       "       [0],\n",
       "       [0],\n",
       "       [0],\n",
       "       [0],\n",
       "       [0],\n",
       "       [0],\n",
       "       [0],\n",
       "       [0],\n",
       "       [0],\n",
       "       [0],\n",
       "       [0],\n",
       "       [0],\n",
       "       [0],\n",
       "       [0],\n",
       "       [0],\n",
       "       [0],\n",
       "       [0],\n",
       "       [0],\n",
       "       [0],\n",
       "       [0],\n",
       "       [0],\n",
       "       [0],\n",
       "       [0],\n",
       "       [0],\n",
       "       [0],\n",
       "       [0],\n",
       "       [0],\n",
       "       [0],\n",
       "       [0],\n",
       "       [0],\n",
       "       [0],\n",
       "       [0],\n",
       "       [0],\n",
       "       [0],\n",
       "       [0],\n",
       "       [0],\n",
       "       [0],\n",
       "       [0],\n",
       "       [0],\n",
       "       [0],\n",
       "       [0],\n",
       "       [0],\n",
       "       [0],\n",
       "       [0],\n",
       "       [0],\n",
       "       [0],\n",
       "       [0],\n",
       "       [0],\n",
       "       [0],\n",
       "       [0],\n",
       "       [0],\n",
       "       [0],\n",
       "       [0],\n",
       "       [0],\n",
       "       [0],\n",
       "       [0],\n",
       "       [0],\n",
       "       [0],\n",
       "       [0],\n",
       "       [0],\n",
       "       [0],\n",
       "       [0],\n",
       "       [0],\n",
       "       [0],\n",
       "       [0],\n",
       "       [0],\n",
       "       [0],\n",
       "       [0],\n",
       "       [0],\n",
       "       [0],\n",
       "       [0],\n",
       "       [0],\n",
       "       [0],\n",
       "       [0],\n",
       "       [0],\n",
       "       [0],\n",
       "       [0],\n",
       "       [0],\n",
       "       [0],\n",
       "       [0],\n",
       "       [0],\n",
       "       [0],\n",
       "       [0],\n",
       "       [0],\n",
       "       [0],\n",
       "       [0],\n",
       "       [0],\n",
       "       [0],\n",
       "       [0],\n",
       "       [0],\n",
       "       [0],\n",
       "       [0],\n",
       "       [0],\n",
       "       [0],\n",
       "       [0],\n",
       "       [0],\n",
       "       [0],\n",
       "       [0],\n",
       "       [0],\n",
       "       [0],\n",
       "       [0],\n",
       "       [0],\n",
       "       [0],\n",
       "       [0],\n",
       "       [0],\n",
       "       [0],\n",
       "       [0],\n",
       "       [0],\n",
       "       [0],\n",
       "       [0],\n",
       "       [0],\n",
       "       [0],\n",
       "       [0],\n",
       "       [0],\n",
       "       [0],\n",
       "       [0],\n",
       "       [0],\n",
       "       [0],\n",
       "       [0],\n",
       "       [0],\n",
       "       [0],\n",
       "       [0],\n",
       "       [0],\n",
       "       [0],\n",
       "       [0],\n",
       "       [0],\n",
       "       [0],\n",
       "       [0],\n",
       "       [0],\n",
       "       [0],\n",
       "       [0],\n",
       "       [0],\n",
       "       [0],\n",
       "       [0],\n",
       "       [0],\n",
       "       [0],\n",
       "       [0],\n",
       "       [0],\n",
       "       [0],\n",
       "       [0],\n",
       "       [0],\n",
       "       [0],\n",
       "       [0]])"
      ]
     },
     "execution_count": 34,
     "metadata": {},
     "output_type": "execute_result"
    }
   ],
   "source": [
    "predicted_classes"
   ]
  },
  {
   "cell_type": "markdown",
   "id": "2a25a733",
   "metadata": {
    "papermill": {
     "duration": 0.029244,
     "end_time": "2024-09-16T10:15:54.624304",
     "exception": false,
     "start_time": "2024-09-16T10:15:54.595060",
     "status": "completed"
    },
    "tags": []
   },
   "source": [
    "# Evaluating Model Performance\n",
    "\n",
    "So how well did we do? How do we actually measure \"well\". Is 95% accuracy good enough? It all depends on the situation. Also we need to take into account things like recall and precision. Make sure to watch the video discussion on classification evaluation before running this code!"
   ]
  },
  {
   "cell_type": "code",
   "execution_count": 35,
   "id": "476d15ac",
   "metadata": {
    "execution": {
     "iopub.execute_input": "2024-09-16T10:15:54.685114Z",
     "iopub.status.busy": "2024-09-16T10:15:54.684668Z",
     "iopub.status.idle": "2024-09-16T10:15:54.691978Z",
     "shell.execute_reply": "2024-09-16T10:15:54.690586Z"
    },
    "papermill": {
     "duration": 0.040574,
     "end_time": "2024-09-16T10:15:54.694361",
     "exception": false,
     "start_time": "2024-09-16T10:15:54.653787",
     "status": "completed"
    },
    "tags": []
   },
   "outputs": [
    {
     "data": {
      "text/plain": [
       "['loss', 'compile_metrics']"
      ]
     },
     "execution_count": 35,
     "metadata": {},
     "output_type": "execute_result"
    }
   ],
   "source": [
    "model.metrics_names"
   ]
  },
  {
   "cell_type": "code",
   "execution_count": 36,
   "id": "298b8792",
   "metadata": {
    "execution": {
     "iopub.execute_input": "2024-09-16T10:15:54.756424Z",
     "iopub.status.busy": "2024-09-16T10:15:54.755981Z",
     "iopub.status.idle": "2024-09-16T10:15:54.979972Z",
     "shell.execute_reply": "2024-09-16T10:15:54.978833Z"
    },
    "papermill": {
     "duration": 0.258459,
     "end_time": "2024-09-16T10:15:54.982772",
     "exception": false,
     "start_time": "2024-09-16T10:15:54.724313",
     "status": "completed"
    },
    "tags": []
   },
   "outputs": [
    {
     "name": "stdout",
     "output_type": "stream",
     "text": [
      "\u001b[1m15/15\u001b[0m \u001b[32m━━━━━━━━━━━━━━━━━━━━\u001b[0m\u001b[37m\u001b[0m \u001b[1m0s\u001b[0m 1ms/step - accuracy: 0.5625 - loss: nan  \n"
     ]
    },
    {
     "data": {
      "text/plain": [
       "[nan, 0.566079318523407]"
      ]
     },
     "execution_count": 36,
     "metadata": {},
     "output_type": "execute_result"
    }
   ],
   "source": [
    "model.evaluate(x=scaled_X_test,y=y_test)"
   ]
  },
  {
   "cell_type": "code",
   "execution_count": 37,
   "id": "aece6e6a",
   "metadata": {
    "execution": {
     "iopub.execute_input": "2024-09-16T10:15:55.045412Z",
     "iopub.status.busy": "2024-09-16T10:15:55.044976Z",
     "iopub.status.idle": "2024-09-16T10:15:55.050765Z",
     "shell.execute_reply": "2024-09-16T10:15:55.049380Z"
    },
    "papermill": {
     "duration": 0.040025,
     "end_time": "2024-09-16T10:15:55.053201",
     "exception": false,
     "start_time": "2024-09-16T10:15:55.013176",
     "status": "completed"
    },
    "tags": []
   },
   "outputs": [],
   "source": [
    "from sklearn.metrics import confusion_matrix,classification_report"
   ]
  },
  {
   "cell_type": "code",
   "execution_count": 38,
   "id": "317d6676",
   "metadata": {
    "execution": {
     "iopub.execute_input": "2024-09-16T10:15:55.114372Z",
     "iopub.status.busy": "2024-09-16T10:15:55.113935Z",
     "iopub.status.idle": "2024-09-16T10:15:55.208936Z",
     "shell.execute_reply": "2024-09-16T10:15:55.207824Z"
    },
    "papermill": {
     "duration": 0.128572,
     "end_time": "2024-09-16T10:15:55.211511",
     "exception": false,
     "start_time": "2024-09-16T10:15:55.082939",
     "status": "completed"
    },
    "tags": []
   },
   "outputs": [
    {
     "name": "stdout",
     "output_type": "stream",
     "text": [
      "\u001b[1m15/15\u001b[0m \u001b[32m━━━━━━━━━━━━━━━━━━━━\u001b[0m\u001b[37m\u001b[0m \u001b[1m0s\u001b[0m 1ms/step \n"
     ]
    }
   ],
   "source": [
    "#predictions = model.predict_classes(scaled_X_test)\n",
    "\n",
    "predictions = model.predict(scaled_X_test)\n",
    "predicted_classes = np.where(predictions > 0.5, 1, 0)"
   ]
  },
  {
   "cell_type": "code",
   "execution_count": 39,
   "id": "22a86457",
   "metadata": {
    "execution": {
     "iopub.execute_input": "2024-09-16T10:15:55.273384Z",
     "iopub.status.busy": "2024-09-16T10:15:55.272358Z",
     "iopub.status.idle": "2024-09-16T10:15:55.282008Z",
     "shell.execute_reply": "2024-09-16T10:15:55.280898Z"
    },
    "papermill": {
     "duration": 0.043183,
     "end_time": "2024-09-16T10:15:55.284422",
     "exception": false,
     "start_time": "2024-09-16T10:15:55.241239",
     "status": "completed"
    },
    "tags": []
   },
   "outputs": [
    {
     "data": {
      "text/plain": [
       "array([[257,   0],\n",
       "       [197,   0]])"
      ]
     },
     "execution_count": 39,
     "metadata": {},
     "output_type": "execute_result"
    }
   ],
   "source": [
    "confusion_matrix(y_test,predicted_classes)"
   ]
  },
  {
   "cell_type": "code",
   "execution_count": 40,
   "id": "5e4d4d29",
   "metadata": {
    "execution": {
     "iopub.execute_input": "2024-09-16T10:15:55.347080Z",
     "iopub.status.busy": "2024-09-16T10:15:55.346300Z",
     "iopub.status.idle": "2024-09-16T10:15:55.365063Z",
     "shell.execute_reply": "2024-09-16T10:15:55.363674Z"
    },
    "papermill": {
     "duration": 0.053378,
     "end_time": "2024-09-16T10:15:55.367910",
     "exception": false,
     "start_time": "2024-09-16T10:15:55.314532",
     "status": "completed"
    },
    "tags": []
   },
   "outputs": [
    {
     "name": "stdout",
     "output_type": "stream",
     "text": [
      "              precision    recall  f1-score   support\n",
      "\n",
      "         0.0       0.57      1.00      0.72       257\n",
      "         1.0       0.00      0.00      0.00       197\n",
      "\n",
      "    accuracy                           0.57       454\n",
      "   macro avg       0.28      0.50      0.36       454\n",
      "weighted avg       0.32      0.57      0.41       454\n",
      "\n"
     ]
    },
    {
     "name": "stderr",
     "output_type": "stream",
     "text": [
      "/opt/conda/lib/python3.10/site-packages/sklearn/metrics/_classification.py:1344: UndefinedMetricWarning: Precision and F-score are ill-defined and being set to 0.0 in labels with no predicted samples. Use `zero_division` parameter to control this behavior.\n",
      "  _warn_prf(average, modifier, msg_start, len(result))\n",
      "/opt/conda/lib/python3.10/site-packages/sklearn/metrics/_classification.py:1344: UndefinedMetricWarning: Precision and F-score are ill-defined and being set to 0.0 in labels with no predicted samples. Use `zero_division` parameter to control this behavior.\n",
      "  _warn_prf(average, modifier, msg_start, len(result))\n",
      "/opt/conda/lib/python3.10/site-packages/sklearn/metrics/_classification.py:1344: UndefinedMetricWarning: Precision and F-score are ill-defined and being set to 0.0 in labels with no predicted samples. Use `zero_division` parameter to control this behavior.\n",
      "  _warn_prf(average, modifier, msg_start, len(result))\n"
     ]
    }
   ],
   "source": [
    "print(classification_report(y_test,predicted_classes))"
   ]
  },
  {
   "cell_type": "markdown",
   "id": "f54b93e9",
   "metadata": {
    "papermill": {
     "duration": 0.030169,
     "end_time": "2024-09-16T10:15:55.429188",
     "exception": false,
     "start_time": "2024-09-16T10:15:55.399019",
     "status": "completed"
    },
    "tags": []
   },
   "source": [
    "## Saving and Loading Models\n",
    "\n",
    "Now that we have a model trained, let's see how we can save and load it."
   ]
  },
  {
   "cell_type": "code",
   "execution_count": 41,
   "id": "385e3d42",
   "metadata": {
    "execution": {
     "iopub.execute_input": "2024-09-16T10:15:55.494930Z",
     "iopub.status.busy": "2024-09-16T10:15:55.493812Z",
     "iopub.status.idle": "2024-09-16T10:15:55.531089Z",
     "shell.execute_reply": "2024-09-16T10:15:55.529883Z"
    },
    "papermill": {
     "duration": 0.073526,
     "end_time": "2024-09-16T10:15:55.533848",
     "exception": false,
     "start_time": "2024-09-16T10:15:55.460322",
     "status": "completed"
    },
    "tags": []
   },
   "outputs": [],
   "source": [
    "model.save('myfirstmodel.h5')"
   ]
  },
  {
   "cell_type": "code",
   "execution_count": 42,
   "id": "4f30a116",
   "metadata": {
    "execution": {
     "iopub.execute_input": "2024-09-16T10:15:55.597371Z",
     "iopub.status.busy": "2024-09-16T10:15:55.596922Z",
     "iopub.status.idle": "2024-09-16T10:15:55.601926Z",
     "shell.execute_reply": "2024-09-16T10:15:55.600809Z"
    },
    "papermill": {
     "duration": 0.039607,
     "end_time": "2024-09-16T10:15:55.604248",
     "exception": false,
     "start_time": "2024-09-16T10:15:55.564641",
     "status": "completed"
    },
    "tags": []
   },
   "outputs": [],
   "source": [
    "from keras.models import load_model"
   ]
  },
  {
   "cell_type": "code",
   "execution_count": 43,
   "id": "b12f8640",
   "metadata": {
    "execution": {
     "iopub.execute_input": "2024-09-16T10:15:55.667517Z",
     "iopub.status.busy": "2024-09-16T10:15:55.667058Z",
     "iopub.status.idle": "2024-09-16T10:15:55.720148Z",
     "shell.execute_reply": "2024-09-16T10:15:55.718928Z"
    },
    "papermill": {
     "duration": 0.088114,
     "end_time": "2024-09-16T10:15:55.722864",
     "exception": false,
     "start_time": "2024-09-16T10:15:55.634750",
     "status": "completed"
    },
    "tags": []
   },
   "outputs": [],
   "source": [
    "newmodel = load_model('myfirstmodel.h5')"
   ]
  },
  {
   "cell_type": "code",
   "execution_count": 44,
   "id": "89306740",
   "metadata": {
    "execution": {
     "iopub.execute_input": "2024-09-16T10:15:55.785461Z",
     "iopub.status.busy": "2024-09-16T10:15:55.784981Z",
     "iopub.status.idle": "2024-09-16T10:15:55.790015Z",
     "shell.execute_reply": "2024-09-16T10:15:55.788936Z"
    },
    "papermill": {
     "duration": 0.039413,
     "end_time": "2024-09-16T10:15:55.792789",
     "exception": false,
     "start_time": "2024-09-16T10:15:55.753376",
     "status": "completed"
    },
    "tags": []
   },
   "outputs": [],
   "source": [
    "#newmodel.predict_classes(X_test)\n",
    "\n",
    "#Need to change this code according to the new approach"
   ]
  },
  {
   "cell_type": "markdown",
   "id": "f10f412b",
   "metadata": {
    "papermill": {
     "duration": 0.030398,
     "end_time": "2024-09-16T10:15:55.853607",
     "exception": false,
     "start_time": "2024-09-16T10:15:55.823209",
     "status": "completed"
    },
    "tags": []
   },
   "source": [
    "Great job! You now know how to preprocess data, train a neural network, and evaluate its classification performance!"
   ]
  }
 ],
 "metadata": {
  "kaggle": {
   "accelerator": "none",
   "dataSources": [],
   "dockerImageVersionId": 30761,
   "isGpuEnabled": false,
   "isInternetEnabled": true,
   "language": "python",
   "sourceType": "notebook"
  },
  "kernelspec": {
   "display_name": "Python 3",
   "language": "python",
   "name": "python3"
  },
  "language_info": {
   "codemirror_mode": {
    "name": "ipython",
    "version": 3
   },
   "file_extension": ".py",
   "mimetype": "text/x-python",
   "name": "python",
   "nbconvert_exporter": "python",
   "pygments_lexer": "ipython3",
   "version": "3.10.14"
  },
  "papermill": {
   "default_parameters": {},
   "duration": 47.564454,
   "end_time": "2024-09-16T10:15:58.461692",
   "environment_variables": {},
   "exception": null,
   "input_path": "__notebook__.ipynb",
   "output_path": "__notebook__.ipynb",
   "parameters": {},
   "start_time": "2024-09-16T10:15:10.897238",
   "version": "2.6.0"
  }
 },
 "nbformat": 4,
 "nbformat_minor": 5
}
