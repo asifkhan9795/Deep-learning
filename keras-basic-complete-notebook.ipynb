{
 "cells": [
  {
   "cell_type": "code",
   "execution_count": 1,
   "id": "84dd11f5",
   "metadata": {
    "execution": {
     "iopub.execute_input": "2024-09-08T09:34:24.257768Z",
     "iopub.status.busy": "2024-09-08T09:34:24.257187Z",
     "iopub.status.idle": "2024-09-08T09:34:42.023447Z",
     "shell.execute_reply": "2024-09-08T09:34:42.021672Z"
    },
    "papermill": {
     "duration": 17.789018,
     "end_time": "2024-09-08T09:34:42.026432",
     "exception": false,
     "start_time": "2024-09-08T09:34:24.237414",
     "status": "completed"
    },
    "tags": []
   },
   "outputs": [
    {
     "name": "stdout",
     "output_type": "stream",
     "text": [
      "Collecting ucimlrepo\r\n",
      "  Downloading ucimlrepo-0.0.7-py3-none-any.whl.metadata (5.5 kB)\r\n",
      "Requirement already satisfied: pandas>=1.0.0 in /opt/conda/lib/python3.10/site-packages (from ucimlrepo) (2.2.2)\r\n",
      "Requirement already satisfied: certifi>=2020.12.5 in /opt/conda/lib/python3.10/site-packages (from ucimlrepo) (2024.7.4)\r\n",
      "Requirement already satisfied: numpy>=1.22.4 in /opt/conda/lib/python3.10/site-packages (from pandas>=1.0.0->ucimlrepo) (1.26.4)\r\n",
      "Requirement already satisfied: python-dateutil>=2.8.2 in /opt/conda/lib/python3.10/site-packages (from pandas>=1.0.0->ucimlrepo) (2.9.0.post0)\r\n",
      "Requirement already satisfied: pytz>=2020.1 in /opt/conda/lib/python3.10/site-packages (from pandas>=1.0.0->ucimlrepo) (2024.1)\r\n",
      "Requirement already satisfied: tzdata>=2022.7 in /opt/conda/lib/python3.10/site-packages (from pandas>=1.0.0->ucimlrepo) (2024.1)\r\n",
      "Requirement already satisfied: six>=1.5 in /opt/conda/lib/python3.10/site-packages (from python-dateutil>=2.8.2->pandas>=1.0.0->ucimlrepo) (1.16.0)\r\n",
      "Downloading ucimlrepo-0.0.7-py3-none-any.whl (8.0 kB)\r\n",
      "Installing collected packages: ucimlrepo\r\n",
      "Successfully installed ucimlrepo-0.0.7\r\n",
      "Note: you may need to restart the kernel to use updated packages.\n"
     ]
    }
   ],
   "source": [
    "pip install ucimlrepo"
   ]
  },
  {
   "cell_type": "code",
   "execution_count": 2,
   "id": "4df45967",
   "metadata": {
    "execution": {
     "iopub.execute_input": "2024-09-08T09:34:42.063926Z",
     "iopub.status.busy": "2024-09-08T09:34:42.062883Z",
     "iopub.status.idle": "2024-09-08T09:34:43.841932Z",
     "shell.execute_reply": "2024-09-08T09:34:43.840293Z"
    },
    "papermill": {
     "duration": 1.801427,
     "end_time": "2024-09-08T09:34:43.845395",
     "exception": false,
     "start_time": "2024-09-08T09:34:42.043968",
     "status": "completed"
    },
    "tags": []
   },
   "outputs": [
    {
     "name": "stdout",
     "output_type": "stream",
     "text": [
      "{'uci_id': 267, 'name': 'Banknote Authentication', 'repository_url': 'https://archive.ics.uci.edu/dataset/267/banknote+authentication', 'data_url': 'https://archive.ics.uci.edu/static/public/267/data.csv', 'abstract': 'Data were extracted from images that were taken for the evaluation of an authentication procedure for banknotes.', 'area': 'Computer Science', 'tasks': ['Classification'], 'characteristics': ['Multivariate'], 'num_instances': 1372, 'num_features': 4, 'feature_types': ['Real'], 'demographics': [], 'target_col': ['class'], 'index_col': None, 'has_missing_values': 'no', 'missing_values_symbol': None, 'year_of_dataset_creation': 2012, 'last_updated': 'Fri Feb 16 2024', 'dataset_doi': '10.24432/C55P57', 'creators': ['Volker Lohweg'], 'intro_paper': None, 'additional_info': {'summary': 'Data were extracted from images that were taken from genuine and forged banknote-like specimens.  For digitization, an industrial camera usually used for print inspection was used. The final images have 400x 400 pixels. Due to the object lens and distance to the investigated object gray-scale pictures with a resolution of about 660 dpi were gained. Wavelet Transform tool were used to extract features from images.  ', 'purpose': None, 'funded_by': None, 'instances_represent': None, 'recommended_data_splits': None, 'sensitive_data': None, 'preprocessing_description': None, 'variable_info': '       1. variance of Wavelet Transformed image (continuous) \\r\\n       2. skewness of Wavelet Transformed image (continuous)\\r\\n       3. curtosis of Wavelet Transformed image (continuous)\\r\\n       4. entropy of image (continuous)\\r\\n       5. class (integer) \\r\\n', 'citation': None}}\n",
      "       name     role        type demographic  \\\n",
      "0  variance  Feature  Continuous        None   \n",
      "1  skewness  Feature  Continuous        None   \n",
      "2  curtosis  Feature  Continuous        None   \n",
      "3   entropy  Feature  Continuous        None   \n",
      "4     class   Target     Integer        None   \n",
      "\n",
      "                             description units missing_values  \n",
      "0  variance of Wavelet Transformed image  None             no  \n",
      "1  skewness of Wavelet Transformed image  None             no  \n",
      "2  curtosis of Wavelet Transformed image  None             no  \n",
      "3                       entropy of image  None             no  \n",
      "4                                   None  None             no  \n"
     ]
    }
   ],
   "source": [
    "from ucimlrepo import fetch_ucirepo \n",
    "  \n",
    "# fetch dataset \n",
    "banknote_authentication = fetch_ucirepo(id=267) \n",
    "  \n",
    "# data (as pandas dataframes) \n",
    "X = banknote_authentication.data.features \n",
    "y = banknote_authentication.data.targets \n",
    "  \n",
    "# metadata \n",
    "print(banknote_authentication.metadata) \n",
    "  \n",
    "# variable information \n",
    "print(banknote_authentication.variables) "
   ]
  },
  {
   "cell_type": "markdown",
   "id": "dca62a22",
   "metadata": {
    "papermill": {
     "duration": 0.016754,
     "end_time": "2024-09-08T09:34:43.880033",
     "exception": false,
     "start_time": "2024-09-08T09:34:43.863279",
     "status": "completed"
    },
    "tags": []
   },
   "source": [
    "# Keras Basics\n",
    "\n",
    "Welcome to the section on deep learning! We'll be using Keras with a TensorFlow backend to perform our deep learning operations.\n",
    "\n",
    "This means we should get familiar with some Keras fundamentals and basics!\n",
    "\n",
    "## Imports\n",
    "\n"
   ]
  },
  {
   "cell_type": "code",
   "execution_count": 3,
   "id": "76d1271f",
   "metadata": {
    "execution": {
     "iopub.execute_input": "2024-09-08T09:34:43.916940Z",
     "iopub.status.busy": "2024-09-08T09:34:43.916288Z",
     "iopub.status.idle": "2024-09-08T09:34:43.922498Z",
     "shell.execute_reply": "2024-09-08T09:34:43.921266Z"
    },
    "papermill": {
     "duration": 0.028122,
     "end_time": "2024-09-08T09:34:43.925221",
     "exception": false,
     "start_time": "2024-09-08T09:34:43.897099",
     "status": "completed"
    },
    "tags": []
   },
   "outputs": [],
   "source": [
    "import numpy as np"
   ]
  },
  {
   "cell_type": "markdown",
   "id": "db8f648e",
   "metadata": {
    "papermill": {
     "duration": 0.016715,
     "end_time": "2024-09-08T09:34:43.961297",
     "exception": false,
     "start_time": "2024-09-08T09:34:43.944582",
     "status": "completed"
    },
    "tags": []
   },
   "source": [
    "## Dataset\n",
    "\n",
    "We will use the Bank Authentication Data Set to start off with. This data set consists of various image features derived from images that had 400 x 400 pixels. You should note **the data itself that we will be using ARE NOT ACTUAL IMAGES**, they are **features** of images. In the next lecture we will cover grabbing and working with image data with Keras. This notebook focuses on learning the basics of building a neural network with Keras.\n",
    "\n",
    "_____\n",
    "More info on the data set:\n",
    "\n",
    "https://archive.ics.uci.edu/ml/datasets/banknote+authentication\n",
    "\n",
    "Data were extracted from images that were taken from genuine and forged banknote-like specimens. For digitization, an industrial camera usually used for print inspection was used. The final images have 400x 400 pixels. Due to the object lens and distance to the investigated object gray-scale pictures with a resolution of about 660 dpi were gained. Wavelet Transform tool were used to extract features from images.\n",
    "\n",
    "\n",
    "Attribute Information:\n",
    "\n",
    "1. variance of Wavelet Transformed image (continuous) \n",
    "2. skewness of Wavelet Transformed image (continuous) \n",
    "3. curtosis of Wavelet Transformed image (continuous) \n",
    "4. entropy of image (continuous) \n",
    "5. class (integer) \n",
    "\n",
    "## Reading in the Data Set\n",
    "\n",
    "We've already downloaded the dataset, its in the DATA folder. So let's open it up. "
   ]
  },
  {
   "cell_type": "code",
   "execution_count": 4,
   "id": "dc0b8447",
   "metadata": {
    "execution": {
     "iopub.execute_input": "2024-09-08T09:34:43.997805Z",
     "iopub.status.busy": "2024-09-08T09:34:43.997323Z",
     "iopub.status.idle": "2024-09-08T09:34:45.227269Z",
     "shell.execute_reply": "2024-09-08T09:34:45.225851Z"
    },
    "papermill": {
     "duration": 1.251618,
     "end_time": "2024-09-08T09:34:45.230306",
     "exception": false,
     "start_time": "2024-09-08T09:34:43.978688",
     "status": "completed"
    },
    "tags": []
   },
   "outputs": [],
   "source": [
    "from numpy import genfromtxt\n",
    "data = genfromtxt('https://archive.ics.uci.edu/static/public/267/data.csv', delimiter=',')\n",
    "#delimiter added beacuse this is preloaded data so it needs such features"
   ]
  },
  {
   "cell_type": "code",
   "execution_count": 5,
   "id": "7211449f",
   "metadata": {
    "execution": {
     "iopub.execute_input": "2024-09-08T09:34:45.266166Z",
     "iopub.status.busy": "2024-09-08T09:34:45.265673Z",
     "iopub.status.idle": "2024-09-08T09:34:45.276854Z",
     "shell.execute_reply": "2024-09-08T09:34:45.275777Z"
    },
    "papermill": {
     "duration": 0.031856,
     "end_time": "2024-09-08T09:34:45.279269",
     "exception": false,
     "start_time": "2024-09-08T09:34:45.247413",
     "status": "completed"
    },
    "tags": []
   },
   "outputs": [
    {
     "data": {
      "text/plain": [
       "array([[      nan,       nan,       nan,       nan,       nan],\n",
       "       [  3.6216 ,   8.6661 ,  -2.8073 ,  -0.44699,   0.     ],\n",
       "       [  4.5459 ,   8.1674 ,  -2.4586 ,  -1.4621 ,   0.     ],\n",
       "       ...,\n",
       "       [ -3.7503 , -13.4586 ,  17.5932 ,  -2.7771 ,   1.     ],\n",
       "       [ -3.5637 ,  -8.3827 ,  12.393  ,  -1.2823 ,   1.     ],\n",
       "       [ -2.5419 ,  -0.65804,   2.6842 ,   1.1952 ,   1.     ]])"
      ]
     },
     "execution_count": 5,
     "metadata": {},
     "output_type": "execute_result"
    }
   ],
   "source": [
    "data\n",
    "#0 and 1 shows authentic and false notes"
   ]
  },
  {
   "cell_type": "code",
   "execution_count": 6,
   "id": "c27e7432",
   "metadata": {
    "execution": {
     "iopub.execute_input": "2024-09-08T09:34:45.318082Z",
     "iopub.status.busy": "2024-09-08T09:34:45.316746Z",
     "iopub.status.idle": "2024-09-08T09:34:45.323067Z",
     "shell.execute_reply": "2024-09-08T09:34:45.321905Z"
    },
    "papermill": {
     "duration": 0.028642,
     "end_time": "2024-09-08T09:34:45.325819",
     "exception": false,
     "start_time": "2024-09-08T09:34:45.297177",
     "status": "completed"
    },
    "tags": []
   },
   "outputs": [],
   "source": [
    "labels = data[:,4]"
   ]
  },
  {
   "cell_type": "code",
   "execution_count": 7,
   "id": "367210dc",
   "metadata": {
    "execution": {
     "iopub.execute_input": "2024-09-08T09:34:45.363545Z",
     "iopub.status.busy": "2024-09-08T09:34:45.362492Z",
     "iopub.status.idle": "2024-09-08T09:34:45.370538Z",
     "shell.execute_reply": "2024-09-08T09:34:45.369287Z"
    },
    "papermill": {
     "duration": 0.029592,
     "end_time": "2024-09-08T09:34:45.372958",
     "exception": false,
     "start_time": "2024-09-08T09:34:45.343366",
     "status": "completed"
    },
    "tags": []
   },
   "outputs": [
    {
     "data": {
      "text/plain": [
       "array([nan,  0.,  0., ...,  1.,  1.,  1.])"
      ]
     },
     "execution_count": 7,
     "metadata": {},
     "output_type": "execute_result"
    }
   ],
   "source": [
    "labels"
   ]
  },
  {
   "cell_type": "code",
   "execution_count": 8,
   "id": "24bb4a4b",
   "metadata": {
    "execution": {
     "iopub.execute_input": "2024-09-08T09:34:45.411172Z",
     "iopub.status.busy": "2024-09-08T09:34:45.410632Z",
     "iopub.status.idle": "2024-09-08T09:34:45.416570Z",
     "shell.execute_reply": "2024-09-08T09:34:45.415299Z"
    },
    "papermill": {
     "duration": 0.028011,
     "end_time": "2024-09-08T09:34:45.419149",
     "exception": false,
     "start_time": "2024-09-08T09:34:45.391138",
     "status": "completed"
    },
    "tags": []
   },
   "outputs": [],
   "source": [
    "features = data[:,0:4]"
   ]
  },
  {
   "cell_type": "code",
   "execution_count": 9,
   "id": "78adf5d1",
   "metadata": {
    "execution": {
     "iopub.execute_input": "2024-09-08T09:34:45.456361Z",
     "iopub.status.busy": "2024-09-08T09:34:45.455906Z",
     "iopub.status.idle": "2024-09-08T09:34:45.464610Z",
     "shell.execute_reply": "2024-09-08T09:34:45.463452Z"
    },
    "papermill": {
     "duration": 0.030855,
     "end_time": "2024-09-08T09:34:45.467345",
     "exception": false,
     "start_time": "2024-09-08T09:34:45.436490",
     "status": "completed"
    },
    "tags": []
   },
   "outputs": [
    {
     "data": {
      "text/plain": [
       "array([[      nan,       nan,       nan,       nan],\n",
       "       [  3.6216 ,   8.6661 ,  -2.8073 ,  -0.44699],\n",
       "       [  4.5459 ,   8.1674 ,  -2.4586 ,  -1.4621 ],\n",
       "       ...,\n",
       "       [ -3.7503 , -13.4586 ,  17.5932 ,  -2.7771 ],\n",
       "       [ -3.5637 ,  -8.3827 ,  12.393  ,  -1.2823 ],\n",
       "       [ -2.5419 ,  -0.65804,   2.6842 ,   1.1952 ]])"
      ]
     },
     "execution_count": 9,
     "metadata": {},
     "output_type": "execute_result"
    }
   ],
   "source": [
    "features"
   ]
  },
  {
   "cell_type": "code",
   "execution_count": 10,
   "id": "68dca0d4",
   "metadata": {
    "execution": {
     "iopub.execute_input": "2024-09-08T09:34:45.506443Z",
     "iopub.status.busy": "2024-09-08T09:34:45.505976Z",
     "iopub.status.idle": "2024-09-08T09:34:45.511362Z",
     "shell.execute_reply": "2024-09-08T09:34:45.510276Z"
    },
    "papermill": {
     "duration": 0.027895,
     "end_time": "2024-09-08T09:34:45.513985",
     "exception": false,
     "start_time": "2024-09-08T09:34:45.486090",
     "status": "completed"
    },
    "tags": []
   },
   "outputs": [],
   "source": [
    "X = features\n",
    "y = labels"
   ]
  },
  {
   "cell_type": "markdown",
   "id": "922d104a",
   "metadata": {
    "papermill": {
     "duration": 0.017512,
     "end_time": "2024-09-08T09:34:45.549571",
     "exception": false,
     "start_time": "2024-09-08T09:34:45.532059",
     "status": "completed"
    },
    "tags": []
   },
   "source": [
    "## Split the Data into Training and Test\n",
    "\n",
    "Its time to split the data into a train/test set. Keep in mind, sometimes people like to split 3 ways, train/test/validation. We'll keep things simple for now. **Remember to check out the video explanation as to why we split and what all the parameters mean!**"
   ]
  },
  {
   "cell_type": "code",
   "execution_count": 11,
   "id": "ec38a2db",
   "metadata": {
    "execution": {
     "iopub.execute_input": "2024-09-08T09:34:45.587420Z",
     "iopub.status.busy": "2024-09-08T09:34:45.586990Z",
     "iopub.status.idle": "2024-09-08T09:34:47.111072Z",
     "shell.execute_reply": "2024-09-08T09:34:47.109958Z"
    },
    "papermill": {
     "duration": 1.546651,
     "end_time": "2024-09-08T09:34:47.113880",
     "exception": false,
     "start_time": "2024-09-08T09:34:45.567229",
     "status": "completed"
    },
    "tags": []
   },
   "outputs": [],
   "source": [
    "from sklearn.model_selection import train_test_split"
   ]
  },
  {
   "cell_type": "code",
   "execution_count": 12,
   "id": "6b8edb04",
   "metadata": {
    "execution": {
     "iopub.execute_input": "2024-09-08T09:34:47.151906Z",
     "iopub.status.busy": "2024-09-08T09:34:47.151255Z",
     "iopub.status.idle": "2024-09-08T09:34:47.161143Z",
     "shell.execute_reply": "2024-09-08T09:34:47.159633Z"
    },
    "papermill": {
     "duration": 0.032178,
     "end_time": "2024-09-08T09:34:47.164007",
     "exception": false,
     "start_time": "2024-09-08T09:34:47.131829",
     "status": "completed"
    },
    "tags": []
   },
   "outputs": [],
   "source": [
    "X_train, X_test, y_train, y_test = train_test_split(X, y, test_size=0.33, random_state=42)"
   ]
  },
  {
   "cell_type": "code",
   "execution_count": 13,
   "id": "b8808686",
   "metadata": {
    "execution": {
     "iopub.execute_input": "2024-09-08T09:34:47.202583Z",
     "iopub.status.busy": "2024-09-08T09:34:47.201544Z",
     "iopub.status.idle": "2024-09-08T09:34:47.209511Z",
     "shell.execute_reply": "2024-09-08T09:34:47.208359Z"
    },
    "papermill": {
     "duration": 0.030007,
     "end_time": "2024-09-08T09:34:47.212257",
     "exception": false,
     "start_time": "2024-09-08T09:34:47.182250",
     "status": "completed"
    },
    "tags": []
   },
   "outputs": [
    {
     "data": {
      "text/plain": [
       "array([[  0.74428,  -3.7723 ,   1.6131 ,   1.5754 ],\n",
       "       [  4.6464 ,  10.5326 ,  -4.5852 ,  -4.206  ],\n",
       "       [ -4.3773 ,  -5.5167 ,  10.939  ,  -0.4082 ],\n",
       "       ...,\n",
       "       [ -3.9698 ,   3.6812 ,  -0.60008,  -4.0133 ],\n",
       "       [ -5.873  ,   9.1752 ,  -0.27448,  -6.0422 ],\n",
       "       [ -3.5985 , -13.6593 ,  17.6052 ,  -2.4927 ]])"
      ]
     },
     "execution_count": 13,
     "metadata": {},
     "output_type": "execute_result"
    }
   ],
   "source": [
    "X_train\n",
    "#show length of x_train and x_test"
   ]
  },
  {
   "cell_type": "code",
   "execution_count": 14,
   "id": "9742f768",
   "metadata": {
    "execution": {
     "iopub.execute_input": "2024-09-08T09:34:47.250379Z",
     "iopub.status.busy": "2024-09-08T09:34:47.249898Z",
     "iopub.status.idle": "2024-09-08T09:34:47.257859Z",
     "shell.execute_reply": "2024-09-08T09:34:47.256660Z"
    },
    "papermill": {
     "duration": 0.029811,
     "end_time": "2024-09-08T09:34:47.260341",
     "exception": false,
     "start_time": "2024-09-08T09:34:47.230530",
     "status": "completed"
    },
    "tags": []
   },
   "outputs": [
    {
     "data": {
      "text/plain": [
       "array([[ 2.5503  , -4.9518  ,  6.3729  , -0.41596 ],\n",
       "       [ 1.4276  ,  8.3847  , -2.0995  , -1.9677  ],\n",
       "       [ 2.1464  ,  6.0795  , -0.5778  , -2.2302  ],\n",
       "       ...,\n",
       "       [ 2.2517  , -5.1422  ,  4.2916  , -1.2487  ],\n",
       "       [ 5.2418  , 10.5388  , -4.1174  , -4.2797  ],\n",
       "       [-0.8734  , -0.033118, -0.20165 ,  0.55774 ]])"
      ]
     },
     "execution_count": 14,
     "metadata": {},
     "output_type": "execute_result"
    }
   ],
   "source": [
    "X_test"
   ]
  },
  {
   "cell_type": "code",
   "execution_count": 15,
   "id": "8bc4199f",
   "metadata": {
    "execution": {
     "iopub.execute_input": "2024-09-08T09:34:47.297786Z",
     "iopub.status.busy": "2024-09-08T09:34:47.297279Z",
     "iopub.status.idle": "2024-09-08T09:34:47.400817Z",
     "shell.execute_reply": "2024-09-08T09:34:47.399650Z"
    },
    "papermill": {
     "duration": 0.125472,
     "end_time": "2024-09-08T09:34:47.403547",
     "exception": false,
     "start_time": "2024-09-08T09:34:47.278075",
     "status": "completed"
    },
    "tags": []
   },
   "outputs": [
    {
     "data": {
      "text/plain": [
       "array([ 1.,  0.,  1.,  0.,  0.,  1.,  0.,  0.,  1.,  0.,  0.,  0.,  1.,\n",
       "        1.,  1.,  0.,  1.,  1.,  1.,  0.,  1.,  1.,  1.,  0.,  1.,  0.,\n",
       "        0.,  1.,  0.,  0.,  0.,  1.,  0.,  1.,  0.,  0.,  0.,  0.,  0.,\n",
       "        1.,  0.,  0.,  1.,  0.,  0.,  1.,  1.,  1.,  0.,  0.,  0.,  1.,\n",
       "        1.,  1.,  1.,  1.,  1.,  1.,  0.,  0.,  0.,  0.,  0.,  0.,  1.,\n",
       "        0.,  1.,  0.,  0.,  0.,  0.,  1.,  1.,  0.,  1.,  1.,  0.,  1.,\n",
       "        0.,  1.,  1.,  1.,  1.,  1.,  1.,  1.,  1.,  1.,  1.,  1.,  0.,\n",
       "        1.,  0.,  0.,  0.,  0.,  1.,  1.,  1.,  0.,  0.,  0.,  1.,  0.,\n",
       "        1.,  1.,  1.,  1.,  0.,  0.,  0.,  0.,  0.,  0.,  0.,  0.,  0.,\n",
       "        0.,  0.,  0.,  0.,  1.,  1.,  0.,  1.,  0.,  1.,  0.,  0.,  0.,\n",
       "        0.,  0.,  1.,  1.,  0.,  0.,  0.,  0.,  0.,  0.,  0.,  0.,  0.,\n",
       "        0.,  0.,  1.,  1.,  0.,  1.,  0.,  0.,  1.,  1.,  0.,  1.,  0.,\n",
       "        0.,  1.,  0.,  1.,  1.,  0.,  0.,  0.,  0.,  0.,  0.,  1.,  0.,\n",
       "        0.,  0.,  1.,  1.,  0.,  1.,  1.,  1.,  1.,  1.,  0.,  1.,  1.,\n",
       "        0.,  0.,  1.,  1.,  0.,  1.,  1.,  0.,  1.,  1.,  0.,  0.,  0.,\n",
       "        0.,  1.,  0.,  0.,  1.,  0.,  1.,  0.,  0.,  1.,  0.,  0.,  1.,\n",
       "        1.,  0.,  0.,  1.,  1.,  0.,  1.,  1.,  1.,  0.,  0.,  0.,  1.,\n",
       "        0.,  0.,  1.,  0.,  0.,  0.,  1.,  0.,  0.,  1.,  0.,  1.,  0.,\n",
       "        0.,  0.,  0.,  0.,  1.,  1.,  0.,  0.,  1.,  0.,  0.,  1.,  0.,\n",
       "        0.,  1.,  0.,  1.,  1.,  1.,  0.,  1.,  0.,  0.,  0.,  1.,  0.,\n",
       "        0.,  1.,  1.,  1.,  0.,  1.,  0.,  1.,  1.,  0.,  0.,  1.,  1.,\n",
       "        1.,  1.,  0.,  0.,  1.,  0.,  1.,  0.,  1.,  0.,  0.,  0.,  1.,\n",
       "        0.,  1.,  1.,  0.,  0.,  1.,  0.,  1.,  0.,  1.,  0.,  1.,  0.,\n",
       "        0., nan,  0.,  1.,  0.,  1.,  1.,  1.,  1.,  1.,  1.,  0.,  0.,\n",
       "        0.,  1.,  0.,  0.,  0.,  1.,  0.,  1.,  0.,  0.,  0.,  0.,  0.,\n",
       "        1.,  0.,  1.,  1.,  0.,  1.,  0.,  0.,  1.,  0.,  0.,  0.,  0.,\n",
       "        0.,  0.,  1.,  1.,  1.,  0.,  1.,  0.,  0.,  0.,  1.,  1.,  0.,\n",
       "        0.,  1.,  0.,  1.,  0.,  0.,  0.,  0.,  0.,  0.,  1.,  1.,  1.,\n",
       "        0.,  0.,  0.,  0.,  0.,  0.,  1.,  1.,  1.,  0.,  0.,  0.,  1.,\n",
       "        1.,  1.,  1.,  0.,  0.,  1.,  0.,  0.,  0.,  1.,  0.,  0.,  1.,\n",
       "        0.,  0.,  0.,  1.,  0.,  0.,  1.,  1.,  0.,  1.,  0.,  0.,  0.,\n",
       "        1.,  1.,  0.,  1.,  0.,  0.,  1.,  0.,  0.,  1.,  0.,  1.,  1.,\n",
       "        0.,  1.,  0.,  0.,  0.,  0.,  1.,  0.,  0.,  0.,  1.,  0.,  0.,\n",
       "        0.,  0.,  0.,  1.,  1.,  0.,  1.,  0.,  0.,  0.,  0.,  0.,  0.,\n",
       "        1.,  0.,  1.,  1.,  1.,  0.,  0.,  1.,  1.,  1.,  1.,  0.,  0.,\n",
       "        1.,  0.,  0.,  1.,  0.,  0.,  0.,  1.,  0.,  1.,  0.,  0.,  0.,\n",
       "        1.,  0.,  0.,  1.,  1.,  1.,  1.,  0.,  1.,  1.,  0.,  1.,  0.,\n",
       "        1.,  0.,  0.,  0.,  1.,  0.,  1.,  1.,  1.,  1.,  0.,  0.,  1.,\n",
       "        0.,  1.,  0.,  0.,  0.,  0.,  0.,  0.,  1.,  1.,  0.,  1.,  0.,\n",
       "        0.,  1.,  0.,  1.,  0.,  1.,  1.,  1.,  0.,  1.,  0.,  1.,  1.,\n",
       "        0.,  0.,  0.,  0.,  1.,  0.,  0.,  1.,  1.,  1.,  1.,  0.,  0.,\n",
       "        0.,  0.,  0.,  1.,  1.,  0.,  0.,  1.,  0.,  0.,  0.,  1.,  1.,\n",
       "        0.,  0.,  0.,  1.,  1.,  1.,  1.,  0.,  1.,  1.,  0.,  0.,  0.,\n",
       "        1.,  1.,  0.,  0.,  1.,  1.,  0.,  0.,  1.,  0.,  0.,  0.,  0.,\n",
       "        0.,  0.,  1.,  1.,  1.,  0.,  1.,  1.,  1.,  1.,  0.,  1.,  0.,\n",
       "        1.,  1.,  0.,  1.,  1.,  1.,  0.,  1.,  0.,  0.,  0.,  0.,  1.,\n",
       "        0.,  1.,  0.,  1.,  0.,  0.,  0.,  0.,  0.,  0.,  0.,  1.,  1.,\n",
       "        1.,  0.,  1.,  0.,  0.,  1.,  0.,  1.,  0.,  0.,  1.,  1.,  0.,\n",
       "        0.,  0.,  1.,  0.,  0.,  1.,  1.,  1.,  0.,  1.,  1.,  0.,  0.,\n",
       "        0.,  0.,  1.,  1.,  1.,  0.,  1.,  0.,  0.,  0.,  1.,  0.,  0.,\n",
       "        1.,  1.,  1.,  1.,  1.,  0.,  1.,  0.,  0.,  0.,  1.,  0.,  0.,\n",
       "        0.,  1.,  0.,  1.,  1.,  0.,  1.,  0.,  1.,  1.,  1.,  1.,  0.,\n",
       "        1.,  1.,  1.,  1.,  1.,  0.,  1.,  0.,  1.,  1.,  0.,  0.,  1.,\n",
       "        0.,  0.,  0.,  0.,  1.,  1.,  0.,  1.,  1.,  0.,  0.,  1.,  1.,\n",
       "        1.,  1.,  0.,  0.,  1.,  0.,  0.,  0.,  0.,  1.,  1.,  0.,  1.,\n",
       "        0.,  1.,  1.,  0.,  0.,  1.,  1.,  0.,  0.,  0.,  1.,  0.,  0.,\n",
       "        0.,  1.,  0.,  1.,  0.,  0.,  1.,  0.,  0.,  0.,  1.,  0.,  1.,\n",
       "        1.,  1.,  0.,  1.,  0.,  0.,  0.,  0.,  0.,  1.,  1.,  1.,  1.,\n",
       "        0.,  1.,  0.,  1.,  0.,  0.,  0.,  1.,  0.,  0.,  1.,  1.,  1.,\n",
       "        0.,  1.,  0.,  0.,  0.,  1.,  1.,  0.,  1.,  0.,  1.,  0.,  1.,\n",
       "        0.,  0.,  1.,  0.,  0.,  1.,  1.,  1.,  0.,  0.,  1.,  1.,  0.,\n",
       "        1.,  1.,  1.,  1.,  0.,  0.,  1.,  0.,  0.,  0.,  1.,  0.,  0.,\n",
       "        1.,  1.,  1.,  1.,  0.,  0.,  1.,  0.,  1.,  0.,  0.,  0.,  0.,\n",
       "        0.,  0.,  1.,  1.,  0.,  1.,  0.,  0.,  0.,  1.,  1.,  0.,  0.,\n",
       "        0.,  1.,  0.,  1.,  1.,  1.,  0.,  0.,  0.,  1.,  1.,  0.,  1.,\n",
       "        1.,  0.,  1.,  0.,  0.,  0.,  0.,  0.,  1.,  0.,  1.,  1.,  1.,\n",
       "        0.,  0.,  1.,  0.,  1.,  0.,  1.,  0.,  1.,  0.,  0.,  0.,  0.,\n",
       "        0.,  1.,  0.,  1.,  0.,  0.,  1.,  1.,  1.,  0.,  1.,  0.,  1.,\n",
       "        0.,  1.,  0.,  0.,  1.,  0.,  1.,  0.,  0.,  0.,  1.,  0.,  1.,\n",
       "        0.,  1.,  1.,  0.,  1.,  0.,  1.,  1.,  0.,  1.,  1.,  0.,  0.,\n",
       "        1.,  0.,  0.,  1.,  1.,  1.,  1.,  1.,  1.])"
      ]
     },
     "execution_count": 15,
     "metadata": {},
     "output_type": "execute_result"
    }
   ],
   "source": [
    "y_train"
   ]
  },
  {
   "cell_type": "code",
   "execution_count": 16,
   "id": "c9500043",
   "metadata": {
    "execution": {
     "iopub.execute_input": "2024-09-08T09:34:47.442392Z",
     "iopub.status.busy": "2024-09-08T09:34:47.441928Z",
     "iopub.status.idle": "2024-09-08T09:34:47.454473Z",
     "shell.execute_reply": "2024-09-08T09:34:47.453301Z"
    },
    "papermill": {
     "duration": 0.034658,
     "end_time": "2024-09-08T09:34:47.456965",
     "exception": false,
     "start_time": "2024-09-08T09:34:47.422307",
     "status": "completed"
    },
    "tags": []
   },
   "outputs": [
    {
     "data": {
      "text/plain": [
       "array([0., 0., 0., 0., 0., 0., 0., 0., 0., 0., 1., 1., 0., 1., 0., 1., 1.,\n",
       "       1., 1., 1., 0., 0., 1., 0., 1., 0., 0., 1., 0., 0., 1., 0., 0., 1.,\n",
       "       1., 0., 1., 1., 1., 0., 0., 1., 1., 0., 1., 1., 1., 0., 0., 1., 0.,\n",
       "       0., 0., 0., 0., 1., 0., 0., 0., 0., 1., 0., 1., 0., 0., 0., 0., 0.,\n",
       "       0., 1., 1., 0., 1., 0., 1., 0., 0., 1., 1., 1., 1., 0., 1., 0., 0.,\n",
       "       0., 0., 1., 1., 0., 0., 0., 1., 1., 0., 1., 1., 0., 0., 0., 1., 0.,\n",
       "       0., 0., 1., 0., 0., 1., 1., 1., 1., 1., 0., 1., 1., 1., 0., 1., 1.,\n",
       "       0., 1., 0., 1., 0., 1., 0., 1., 1., 0., 1., 1., 0., 0., 0., 0., 0.,\n",
       "       1., 0., 0., 0., 0., 0., 1., 0., 1., 1., 1., 1., 1., 0., 1., 1., 1.,\n",
       "       0., 1., 0., 1., 0., 0., 0., 1., 1., 1., 1., 1., 0., 1., 0., 0., 0.,\n",
       "       0., 0., 0., 1., 0., 0., 1., 1., 0., 0., 0., 0., 1., 0., 1., 0., 1.,\n",
       "       1., 0., 0., 1., 0., 0., 1., 1., 1., 1., 0., 0., 1., 1., 1., 0., 0.,\n",
       "       1., 1., 1., 1., 0., 0., 0., 0., 0., 0., 0., 0., 0., 0., 1., 1., 1.,\n",
       "       1., 1., 0., 1., 0., 0., 1., 1., 1., 1., 0., 1., 0., 1., 1., 1., 1.,\n",
       "       0., 0., 0., 1., 0., 1., 1., 1., 0., 0., 0., 0., 0., 0., 1., 0., 1.,\n",
       "       0., 0., 0., 1., 1., 0., 0., 0., 1., 1., 0., 1., 0., 1., 1., 1., 1.,\n",
       "       0., 0., 0., 0., 0., 1., 0., 0., 1., 0., 1., 0., 0., 1., 0., 0., 0.,\n",
       "       0., 0., 1., 1., 0., 1., 0., 1., 1., 0., 0., 0., 0., 0., 0., 0., 1.,\n",
       "       1., 1., 0., 0., 1., 1., 0., 0., 0., 0., 0., 0., 1., 0., 1., 1., 1.,\n",
       "       0., 0., 0., 0., 1., 0., 0., 0., 0., 0., 0., 0., 1., 0., 1., 1., 1.,\n",
       "       1., 0., 1., 1., 0., 1., 1., 0., 0., 1., 0., 0., 1., 0., 1., 0., 1.,\n",
       "       1., 0., 0., 1., 0., 0., 0., 0., 0., 0., 1., 0., 0., 1., 0., 0., 0.,\n",
       "       0., 1., 1., 0., 1., 0., 1., 1., 1., 0., 1., 1., 0., 1., 1., 0., 1.,\n",
       "       0., 0., 0., 1., 1., 1., 0., 0., 0., 0., 1., 0., 0., 1., 1., 1., 1.,\n",
       "       0., 1., 0., 0., 1., 1., 0., 1., 0., 1., 0., 0., 0., 1., 1., 0., 0.,\n",
       "       0., 1., 0., 0., 1., 0., 0., 0., 0., 1., 0., 1., 0., 0., 1., 0., 0.,\n",
       "       0., 0., 0., 0., 1., 1., 0., 0., 0., 0., 0., 1.])"
      ]
     },
     "execution_count": 16,
     "metadata": {},
     "output_type": "execute_result"
    }
   ],
   "source": [
    "y_test"
   ]
  },
  {
   "cell_type": "markdown",
   "id": "acb4ee49",
   "metadata": {
    "papermill": {
     "duration": 0.018111,
     "end_time": "2024-09-08T09:34:47.493587",
     "exception": false,
     "start_time": "2024-09-08T09:34:47.475476",
     "status": "completed"
    },
    "tags": []
   },
   "source": [
    "## Standardizing the Data\n",
    "\n",
    "Usually when using Neural Networks, you will get better performance when you standardize the data. Standardization just means normalizing the values to all fit between a certain range, like 0-1, or -1 to 1.\n",
    "\n",
    "The scikit learn library also provides a nice function for this.\n",
    "\n",
    "http://scikit-learn.org/stable/modules/generated/sklearn.preprocessing.MinMaxScaler.html"
   ]
  },
  {
   "cell_type": "code",
   "execution_count": 17,
   "id": "7e7d96b8",
   "metadata": {
    "execution": {
     "iopub.execute_input": "2024-09-08T09:34:47.532281Z",
     "iopub.status.busy": "2024-09-08T09:34:47.531820Z",
     "iopub.status.idle": "2024-09-08T09:34:47.536897Z",
     "shell.execute_reply": "2024-09-08T09:34:47.535830Z"
    },
    "papermill": {
     "duration": 0.027269,
     "end_time": "2024-09-08T09:34:47.539286",
     "exception": false,
     "start_time": "2024-09-08T09:34:47.512017",
     "status": "completed"
    },
    "tags": []
   },
   "outputs": [],
   "source": [
    "from sklearn.preprocessing import MinMaxScaler"
   ]
  },
  {
   "cell_type": "code",
   "execution_count": 18,
   "id": "aa1ee17c",
   "metadata": {
    "execution": {
     "iopub.execute_input": "2024-09-08T09:34:47.577593Z",
     "iopub.status.busy": "2024-09-08T09:34:47.577132Z",
     "iopub.status.idle": "2024-09-08T09:34:47.582334Z",
     "shell.execute_reply": "2024-09-08T09:34:47.581195Z"
    },
    "papermill": {
     "duration": 0.027337,
     "end_time": "2024-09-08T09:34:47.584803",
     "exception": false,
     "start_time": "2024-09-08T09:34:47.557466",
     "status": "completed"
    },
    "tags": []
   },
   "outputs": [],
   "source": [
    "scaler_object = MinMaxScaler()"
   ]
  },
  {
   "cell_type": "code",
   "execution_count": 19,
   "id": "e1ba29cc",
   "metadata": {
    "execution": {
     "iopub.execute_input": "2024-09-08T09:34:47.623933Z",
     "iopub.status.busy": "2024-09-08T09:34:47.622821Z",
     "iopub.status.idle": "2024-09-08T09:34:47.635407Z",
     "shell.execute_reply": "2024-09-08T09:34:47.634246Z"
    },
    "papermill": {
     "duration": 0.035276,
     "end_time": "2024-09-08T09:34:47.638224",
     "exception": false,
     "start_time": "2024-09-08T09:34:47.602948",
     "status": "completed"
    },
    "tags": []
   },
   "outputs": [
    {
     "data": {
      "text/html": [
       "<style>#sk-container-id-1 {color: black;background-color: white;}#sk-container-id-1 pre{padding: 0;}#sk-container-id-1 div.sk-toggleable {background-color: white;}#sk-container-id-1 label.sk-toggleable__label {cursor: pointer;display: block;width: 100%;margin-bottom: 0;padding: 0.3em;box-sizing: border-box;text-align: center;}#sk-container-id-1 label.sk-toggleable__label-arrow:before {content: \"▸\";float: left;margin-right: 0.25em;color: #696969;}#sk-container-id-1 label.sk-toggleable__label-arrow:hover:before {color: black;}#sk-container-id-1 div.sk-estimator:hover label.sk-toggleable__label-arrow:before {color: black;}#sk-container-id-1 div.sk-toggleable__content {max-height: 0;max-width: 0;overflow: hidden;text-align: left;background-color: #f0f8ff;}#sk-container-id-1 div.sk-toggleable__content pre {margin: 0.2em;color: black;border-radius: 0.25em;background-color: #f0f8ff;}#sk-container-id-1 input.sk-toggleable__control:checked~div.sk-toggleable__content {max-height: 200px;max-width: 100%;overflow: auto;}#sk-container-id-1 input.sk-toggleable__control:checked~label.sk-toggleable__label-arrow:before {content: \"▾\";}#sk-container-id-1 div.sk-estimator input.sk-toggleable__control:checked~label.sk-toggleable__label {background-color: #d4ebff;}#sk-container-id-1 div.sk-label input.sk-toggleable__control:checked~label.sk-toggleable__label {background-color: #d4ebff;}#sk-container-id-1 input.sk-hidden--visually {border: 0;clip: rect(1px 1px 1px 1px);clip: rect(1px, 1px, 1px, 1px);height: 1px;margin: -1px;overflow: hidden;padding: 0;position: absolute;width: 1px;}#sk-container-id-1 div.sk-estimator {font-family: monospace;background-color: #f0f8ff;border: 1px dotted black;border-radius: 0.25em;box-sizing: border-box;margin-bottom: 0.5em;}#sk-container-id-1 div.sk-estimator:hover {background-color: #d4ebff;}#sk-container-id-1 div.sk-parallel-item::after {content: \"\";width: 100%;border-bottom: 1px solid gray;flex-grow: 1;}#sk-container-id-1 div.sk-label:hover label.sk-toggleable__label {background-color: #d4ebff;}#sk-container-id-1 div.sk-serial::before {content: \"\";position: absolute;border-left: 1px solid gray;box-sizing: border-box;top: 0;bottom: 0;left: 50%;z-index: 0;}#sk-container-id-1 div.sk-serial {display: flex;flex-direction: column;align-items: center;background-color: white;padding-right: 0.2em;padding-left: 0.2em;position: relative;}#sk-container-id-1 div.sk-item {position: relative;z-index: 1;}#sk-container-id-1 div.sk-parallel {display: flex;align-items: stretch;justify-content: center;background-color: white;position: relative;}#sk-container-id-1 div.sk-item::before, #sk-container-id-1 div.sk-parallel-item::before {content: \"\";position: absolute;border-left: 1px solid gray;box-sizing: border-box;top: 0;bottom: 0;left: 50%;z-index: -1;}#sk-container-id-1 div.sk-parallel-item {display: flex;flex-direction: column;z-index: 1;position: relative;background-color: white;}#sk-container-id-1 div.sk-parallel-item:first-child::after {align-self: flex-end;width: 50%;}#sk-container-id-1 div.sk-parallel-item:last-child::after {align-self: flex-start;width: 50%;}#sk-container-id-1 div.sk-parallel-item:only-child::after {width: 0;}#sk-container-id-1 div.sk-dashed-wrapped {border: 1px dashed gray;margin: 0 0.4em 0.5em 0.4em;box-sizing: border-box;padding-bottom: 0.4em;background-color: white;}#sk-container-id-1 div.sk-label label {font-family: monospace;font-weight: bold;display: inline-block;line-height: 1.2em;}#sk-container-id-1 div.sk-label-container {text-align: center;}#sk-container-id-1 div.sk-container {/* jupyter's `normalize.less` sets `[hidden] { display: none; }` but bootstrap.min.css set `[hidden] { display: none !important; }` so we also need the `!important` here to be able to override the default hidden behavior on the sphinx rendered scikit-learn.org. See: https://github.com/scikit-learn/scikit-learn/issues/21755 */display: inline-block !important;position: relative;}#sk-container-id-1 div.sk-text-repr-fallback {display: none;}</style><div id=\"sk-container-id-1\" class=\"sk-top-container\"><div class=\"sk-text-repr-fallback\"><pre>MinMaxScaler()</pre><b>In a Jupyter environment, please rerun this cell to show the HTML representation or trust the notebook. <br />On GitHub, the HTML representation is unable to render, please try loading this page with nbviewer.org.</b></div><div class=\"sk-container\" hidden><div class=\"sk-item\"><div class=\"sk-estimator sk-toggleable\"><input class=\"sk-toggleable__control sk-hidden--visually\" id=\"sk-estimator-id-1\" type=\"checkbox\" checked><label for=\"sk-estimator-id-1\" class=\"sk-toggleable__label sk-toggleable__label-arrow\">MinMaxScaler</label><div class=\"sk-toggleable__content\"><pre>MinMaxScaler()</pre></div></div></div></div></div>"
      ],
      "text/plain": [
       "MinMaxScaler()"
      ]
     },
     "execution_count": 19,
     "metadata": {},
     "output_type": "execute_result"
    }
   ],
   "source": [
    "scaler_object.fit(X_train)\n",
    "#just finds out the min and the max for the data that you want to fit"
   ]
  },
  {
   "cell_type": "code",
   "execution_count": 20,
   "id": "b5c7aab0",
   "metadata": {
    "execution": {
     "iopub.execute_input": "2024-09-08T09:34:47.677951Z",
     "iopub.status.busy": "2024-09-08T09:34:47.677464Z",
     "iopub.status.idle": "2024-09-08T09:34:47.684002Z",
     "shell.execute_reply": "2024-09-08T09:34:47.682835Z"
    },
    "papermill": {
     "duration": 0.02929,
     "end_time": "2024-09-08T09:34:47.686568",
     "exception": false,
     "start_time": "2024-09-08T09:34:47.657278",
     "status": "completed"
    },
    "tags": []
   },
   "outputs": [],
   "source": [
    "scaled_X_train = scaler_object.transform(X_train)\n",
    "#this operation gives us scaler transformed data"
   ]
  },
  {
   "cell_type": "code",
   "execution_count": 21,
   "id": "7a1b55a8",
   "metadata": {
    "execution": {
     "iopub.execute_input": "2024-09-08T09:34:47.726150Z",
     "iopub.status.busy": "2024-09-08T09:34:47.725217Z",
     "iopub.status.idle": "2024-09-08T09:34:47.731160Z",
     "shell.execute_reply": "2024-09-08T09:34:47.729984Z"
    },
    "papermill": {
     "duration": 0.028533,
     "end_time": "2024-09-08T09:34:47.733624",
     "exception": false,
     "start_time": "2024-09-08T09:34:47.705091",
     "status": "completed"
    },
    "tags": []
   },
   "outputs": [],
   "source": [
    "scaled_X_test = scaler_object.transform(X_test)"
   ]
  },
  {
   "cell_type": "markdown",
   "id": "59bd501f",
   "metadata": {
    "papermill": {
     "duration": 0.018279,
     "end_time": "2024-09-08T09:34:47.770479",
     "exception": false,
     "start_time": "2024-09-08T09:34:47.752200",
     "status": "completed"
    },
    "tags": []
   },
   "source": [
    "Ok, now we have the data scaled!"
   ]
  },
  {
   "cell_type": "code",
   "execution_count": 22,
   "id": "f9d7f963",
   "metadata": {
    "execution": {
     "iopub.execute_input": "2024-09-08T09:34:47.809551Z",
     "iopub.status.busy": "2024-09-08T09:34:47.809066Z",
     "iopub.status.idle": "2024-09-08T09:34:47.816837Z",
     "shell.execute_reply": "2024-09-08T09:34:47.815651Z"
    },
    "papermill": {
     "duration": 0.030375,
     "end_time": "2024-09-08T09:34:47.819383",
     "exception": false,
     "start_time": "2024-09-08T09:34:47.789008",
     "status": "completed"
    },
    "tags": []
   },
   "outputs": [
    {
     "data": {
      "text/plain": [
       "nan"
      ]
     },
     "execution_count": 22,
     "metadata": {},
     "output_type": "execute_result"
    }
   ],
   "source": [
    "X_train.max()"
   ]
  },
  {
   "cell_type": "code",
   "execution_count": 23,
   "id": "62ef832f",
   "metadata": {
    "execution": {
     "iopub.execute_input": "2024-09-08T09:34:47.859420Z",
     "iopub.status.busy": "2024-09-08T09:34:47.858011Z",
     "iopub.status.idle": "2024-09-08T09:34:47.865740Z",
     "shell.execute_reply": "2024-09-08T09:34:47.864728Z"
    },
    "papermill": {
     "duration": 0.030304,
     "end_time": "2024-09-08T09:34:47.868301",
     "exception": false,
     "start_time": "2024-09-08T09:34:47.837997",
     "status": "completed"
    },
    "tags": []
   },
   "outputs": [
    {
     "data": {
      "text/plain": [
       "nan"
      ]
     },
     "execution_count": 23,
     "metadata": {},
     "output_type": "execute_result"
    }
   ],
   "source": [
    "scaled_X_train.max()"
   ]
  },
  {
   "cell_type": "code",
   "execution_count": 24,
   "id": "a3f3cc28",
   "metadata": {
    "execution": {
     "iopub.execute_input": "2024-09-08T09:34:47.907457Z",
     "iopub.status.busy": "2024-09-08T09:34:47.907031Z",
     "iopub.status.idle": "2024-09-08T09:34:47.915245Z",
     "shell.execute_reply": "2024-09-08T09:34:47.914091Z"
    },
    "papermill": {
     "duration": 0.030821,
     "end_time": "2024-09-08T09:34:47.917743",
     "exception": false,
     "start_time": "2024-09-08T09:34:47.886922",
     "status": "completed"
    },
    "tags": []
   },
   "outputs": [
    {
     "data": {
      "text/plain": [
       "array([[  0.74428,  -3.7723 ,   1.6131 ,   1.5754 ],\n",
       "       [  4.6464 ,  10.5326 ,  -4.5852 ,  -4.206  ],\n",
       "       [ -4.3773 ,  -5.5167 ,  10.939  ,  -0.4082 ],\n",
       "       ...,\n",
       "       [ -3.9698 ,   3.6812 ,  -0.60008,  -4.0133 ],\n",
       "       [ -5.873  ,   9.1752 ,  -0.27448,  -6.0422 ],\n",
       "       [ -3.5985 , -13.6593 ,  17.6052 ,  -2.4927 ]])"
      ]
     },
     "execution_count": 24,
     "metadata": {},
     "output_type": "execute_result"
    }
   ],
   "source": [
    "X_train"
   ]
  },
  {
   "cell_type": "code",
   "execution_count": 25,
   "id": "867bc219",
   "metadata": {
    "execution": {
     "iopub.execute_input": "2024-09-08T09:34:47.958411Z",
     "iopub.status.busy": "2024-09-08T09:34:47.957607Z",
     "iopub.status.idle": "2024-09-08T09:34:47.966193Z",
     "shell.execute_reply": "2024-09-08T09:34:47.965037Z"
    },
    "papermill": {
     "duration": 0.031949,
     "end_time": "2024-09-08T09:34:47.968774",
     "exception": false,
     "start_time": "2024-09-08T09:34:47.936825",
     "status": "completed"
    },
    "tags": []
   },
   "outputs": [
    {
     "data": {
      "text/plain": [
       "array([[0.56150834, 0.37421561, 0.2950746 , 0.92051975],\n",
       "       [0.84290649, 0.90948448, 0.02725195, 0.39482801],\n",
       "       [0.19216984, 0.30894266, 0.69803788, 0.74015476],\n",
       "       ...,\n",
       "       [0.22155637, 0.65311491, 0.1994452 , 0.41234985],\n",
       "       [0.08430868, 0.85869252, 0.21351406, 0.22786583],\n",
       "       [0.24833236, 0.00425823, 0.98607804, 0.55061513]])"
      ]
     },
     "execution_count": 25,
     "metadata": {},
     "output_type": "execute_result"
    }
   ],
   "source": [
    "scaled_X_train"
   ]
  },
  {
   "cell_type": "markdown",
   "id": "3c55f6c4",
   "metadata": {
    "papermill": {
     "duration": 0.019459,
     "end_time": "2024-09-08T09:34:48.007577",
     "exception": false,
     "start_time": "2024-09-08T09:34:47.988118",
     "status": "completed"
    },
    "tags": []
   },
   "source": [
    "## Building the Network with Keras\n",
    "\n",
    "Let's build a simple neural network!"
   ]
  },
  {
   "cell_type": "code",
   "execution_count": 26,
   "id": "6349da2c",
   "metadata": {
    "execution": {
     "iopub.execute_input": "2024-09-08T09:34:48.048594Z",
     "iopub.status.busy": "2024-09-08T09:34:48.048166Z",
     "iopub.status.idle": "2024-09-08T09:35:03.077592Z",
     "shell.execute_reply": "2024-09-08T09:35:03.076343Z"
    },
    "papermill": {
     "duration": 15.053442,
     "end_time": "2024-09-08T09:35:03.080442",
     "exception": false,
     "start_time": "2024-09-08T09:34:48.027000",
     "status": "completed"
    },
    "tags": []
   },
   "outputs": [],
   "source": [
    "from keras.models import Sequential\n",
    "from keras.layers import Dense"
   ]
  },
  {
   "cell_type": "code",
   "execution_count": 27,
   "id": "288f1223",
   "metadata": {
    "execution": {
     "iopub.execute_input": "2024-09-08T09:35:03.120930Z",
     "iopub.status.busy": "2024-09-08T09:35:03.120158Z",
     "iopub.status.idle": "2024-09-08T09:35:03.223460Z",
     "shell.execute_reply": "2024-09-08T09:35:03.222006Z"
    },
    "papermill": {
     "duration": 0.126713,
     "end_time": "2024-09-08T09:35:03.226314",
     "exception": false,
     "start_time": "2024-09-08T09:35:03.099601",
     "status": "completed"
    },
    "tags": []
   },
   "outputs": [
    {
     "name": "stderr",
     "output_type": "stream",
     "text": [
      "/opt/conda/lib/python3.10/site-packages/keras/src/layers/core/dense.py:87: UserWarning: Do not pass an `input_shape`/`input_dim` argument to a layer. When using Sequential models, prefer using an `Input(shape)` object as the first layer in the model instead.\n",
      "  super().__init__(activity_regularizer=activity_regularizer, **kwargs)\n"
     ]
    }
   ],
   "source": [
    "# Creates model\n",
    "model = Sequential()\n",
    "# 8 Neurons, expects input of 4 features. \n",
    "# Play around with the number of neurons!!\n",
    "model.add(Dense(4, input_dim=4, activation='relu'))\n",
    "# Add another Densely Connected layer (every neuron connected to every neuron in the next layer)\n",
    "model.add(Dense(8, activation='relu'))\n",
    "# Last layer simple sigmoid function to output 0 or 1 (our label)\n",
    "model.add(Dense(1, activation='sigmoid'))"
   ]
  },
  {
   "cell_type": "markdown",
   "id": "dc81773a",
   "metadata": {
    "papermill": {
     "duration": 0.018917,
     "end_time": "2024-09-08T09:35:03.265138",
     "exception": false,
     "start_time": "2024-09-08T09:35:03.246221",
     "status": "completed"
    },
    "tags": []
   },
   "source": [
    "### Compile Model"
   ]
  },
  {
   "cell_type": "code",
   "execution_count": 28,
   "id": "dc5a1fb8",
   "metadata": {
    "execution": {
     "iopub.execute_input": "2024-09-08T09:35:03.305393Z",
     "iopub.status.busy": "2024-09-08T09:35:03.304966Z",
     "iopub.status.idle": "2024-09-08T09:35:03.321895Z",
     "shell.execute_reply": "2024-09-08T09:35:03.320753Z"
    },
    "papermill": {
     "duration": 0.040652,
     "end_time": "2024-09-08T09:35:03.324927",
     "exception": false,
     "start_time": "2024-09-08T09:35:03.284275",
     "status": "completed"
    },
    "tags": []
   },
   "outputs": [],
   "source": [
    "model.compile(loss='binary_crossentropy', optimizer='adam', metrics=['accuracy'])"
   ]
  },
  {
   "cell_type": "markdown",
   "id": "1462e681",
   "metadata": {
    "papermill": {
     "duration": 0.078791,
     "end_time": "2024-09-08T09:35:03.423280",
     "exception": false,
     "start_time": "2024-09-08T09:35:03.344489",
     "status": "completed"
    },
    "tags": []
   },
   "source": [
    "## Fit (Train) the Model"
   ]
  },
  {
   "cell_type": "code",
   "execution_count": 29,
   "id": "a341f96c",
   "metadata": {
    "execution": {
     "iopub.execute_input": "2024-09-08T09:35:03.463999Z",
     "iopub.status.busy": "2024-09-08T09:35:03.463466Z",
     "iopub.status.idle": "2024-09-08T09:35:08.716162Z",
     "shell.execute_reply": "2024-09-08T09:35:08.714744Z"
    },
    "papermill": {
     "duration": 5.27661,
     "end_time": "2024-09-08T09:35:08.719171",
     "exception": false,
     "start_time": "2024-09-08T09:35:03.442561",
     "status": "completed"
    },
    "tags": []
   },
   "outputs": [
    {
     "name": "stdout",
     "output_type": "stream",
     "text": [
      "Epoch 1/50\n",
      "29/29 - 1s - 48ms/step - accuracy: 0.5495 - loss: nan\n",
      "Epoch 2/50\n",
      "29/29 - 0s - 2ms/step - accuracy: 0.5495 - loss: nan\n",
      "Epoch 3/50\n",
      "29/29 - 0s - 2ms/step - accuracy: 0.5495 - loss: nan\n",
      "Epoch 4/50\n",
      "29/29 - 0s - 2ms/step - accuracy: 0.5495 - loss: nan\n",
      "Epoch 5/50\n",
      "29/29 - 0s - 2ms/step - accuracy: 0.5495 - loss: nan\n",
      "Epoch 6/50\n",
      "29/29 - 0s - 2ms/step - accuracy: 0.5495 - loss: nan\n",
      "Epoch 7/50\n",
      "29/29 - 0s - 2ms/step - accuracy: 0.5495 - loss: nan\n",
      "Epoch 8/50\n",
      "29/29 - 0s - 2ms/step - accuracy: 0.5495 - loss: nan\n",
      "Epoch 9/50\n",
      "29/29 - 0s - 2ms/step - accuracy: 0.5495 - loss: nan\n",
      "Epoch 10/50\n",
      "29/29 - 0s - 2ms/step - accuracy: 0.5495 - loss: nan\n",
      "Epoch 11/50\n",
      "29/29 - 0s - 5ms/step - accuracy: 0.5495 - loss: nan\n",
      "Epoch 12/50\n",
      "29/29 - 0s - 2ms/step - accuracy: 0.5495 - loss: nan\n",
      "Epoch 13/50\n",
      "29/29 - 0s - 2ms/step - accuracy: 0.5495 - loss: nan\n",
      "Epoch 14/50\n",
      "29/29 - 0s - 2ms/step - accuracy: 0.5495 - loss: nan\n",
      "Epoch 15/50\n",
      "29/29 - 0s - 2ms/step - accuracy: 0.5495 - loss: nan\n",
      "Epoch 16/50\n",
      "29/29 - 0s - 2ms/step - accuracy: 0.5495 - loss: nan\n",
      "Epoch 17/50\n",
      "29/29 - 0s - 2ms/step - accuracy: 0.5495 - loss: nan\n",
      "Epoch 18/50\n",
      "29/29 - 0s - 5ms/step - accuracy: 0.5495 - loss: nan\n",
      "Epoch 19/50\n",
      "29/29 - 0s - 2ms/step - accuracy: 0.5495 - loss: nan\n",
      "Epoch 20/50\n",
      "29/29 - 0s - 2ms/step - accuracy: 0.5495 - loss: nan\n",
      "Epoch 21/50\n",
      "29/29 - 0s - 3ms/step - accuracy: 0.5495 - loss: nan\n",
      "Epoch 22/50\n",
      "29/29 - 0s - 2ms/step - accuracy: 0.5495 - loss: nan\n",
      "Epoch 23/50\n",
      "29/29 - 0s - 2ms/step - accuracy: 0.5495 - loss: nan\n",
      "Epoch 24/50\n",
      "29/29 - 0s - 2ms/step - accuracy: 0.5495 - loss: nan\n",
      "Epoch 25/50\n",
      "29/29 - 0s - 2ms/step - accuracy: 0.5495 - loss: nan\n",
      "Epoch 26/50\n",
      "29/29 - 0s - 2ms/step - accuracy: 0.5495 - loss: nan\n",
      "Epoch 27/50\n",
      "29/29 - 0s - 2ms/step - accuracy: 0.5495 - loss: nan\n",
      "Epoch 28/50\n",
      "29/29 - 0s - 3ms/step - accuracy: 0.5495 - loss: nan\n",
      "Epoch 29/50\n",
      "29/29 - 0s - 3ms/step - accuracy: 0.5495 - loss: nan\n",
      "Epoch 30/50\n",
      "29/29 - 0s - 2ms/step - accuracy: 0.5495 - loss: nan\n",
      "Epoch 31/50\n",
      "29/29 - 0s - 2ms/step - accuracy: 0.5495 - loss: nan\n",
      "Epoch 32/50\n",
      "29/29 - 0s - 2ms/step - accuracy: 0.5495 - loss: nan\n",
      "Epoch 33/50\n",
      "29/29 - 0s - 2ms/step - accuracy: 0.5495 - loss: nan\n",
      "Epoch 34/50\n",
      "29/29 - 0s - 2ms/step - accuracy: 0.5495 - loss: nan\n",
      "Epoch 35/50\n",
      "29/29 - 0s - 2ms/step - accuracy: 0.5495 - loss: nan\n",
      "Epoch 36/50\n",
      "29/29 - 0s - 2ms/step - accuracy: 0.5495 - loss: nan\n",
      "Epoch 37/50\n",
      "29/29 - 0s - 3ms/step - accuracy: 0.5495 - loss: nan\n",
      "Epoch 38/50\n",
      "29/29 - 0s - 2ms/step - accuracy: 0.5495 - loss: nan\n",
      "Epoch 39/50\n",
      "29/29 - 0s - 2ms/step - accuracy: 0.5495 - loss: nan\n",
      "Epoch 40/50\n",
      "29/29 - 0s - 2ms/step - accuracy: 0.5495 - loss: nan\n",
      "Epoch 41/50\n",
      "29/29 - 0s - 2ms/step - accuracy: 0.5495 - loss: nan\n",
      "Epoch 42/50\n",
      "29/29 - 0s - 2ms/step - accuracy: 0.5495 - loss: nan\n",
      "Epoch 43/50\n",
      "29/29 - 0s - 3ms/step - accuracy: 0.5495 - loss: nan\n",
      "Epoch 44/50\n",
      "29/29 - 0s - 2ms/step - accuracy: 0.5495 - loss: nan\n",
      "Epoch 45/50\n",
      "29/29 - 0s - 2ms/step - accuracy: 0.5495 - loss: nan\n",
      "Epoch 46/50\n",
      "29/29 - 0s - 2ms/step - accuracy: 0.5495 - loss: nan\n",
      "Epoch 47/50\n",
      "29/29 - 0s - 2ms/step - accuracy: 0.5495 - loss: nan\n",
      "Epoch 48/50\n",
      "29/29 - 0s - 2ms/step - accuracy: 0.5495 - loss: nan\n",
      "Epoch 49/50\n",
      "29/29 - 0s - 2ms/step - accuracy: 0.5495 - loss: nan\n",
      "Epoch 50/50\n",
      "29/29 - 0s - 3ms/step - accuracy: 0.5495 - loss: nan\n"
     ]
    },
    {
     "data": {
      "text/plain": [
       "<keras.src.callbacks.history.History at 0x7d6b9b7ec340>"
      ]
     },
     "execution_count": 29,
     "metadata": {},
     "output_type": "execute_result"
    }
   ],
   "source": [
    "# Play around with number of epochs as well!\n",
    "model.fit(scaled_X_train,y_train,epochs=50, verbose=2)"
   ]
  },
  {
   "cell_type": "markdown",
   "id": "9c54b907",
   "metadata": {
    "papermill": {
     "duration": 0.028317,
     "end_time": "2024-09-08T09:35:08.777916",
     "exception": false,
     "start_time": "2024-09-08T09:35:08.749599",
     "status": "completed"
    },
    "tags": []
   },
   "source": [
    "## Predicting New Unseen Data\n",
    "\n",
    "Let's see how we did by predicting on **new data**. Remember, our model has **never** seen the test data that we scaled previously! This process is the exact same process you would use on totally brand new data. For example , a brand new bank note that you just analyzed ."
   ]
  },
  {
   "cell_type": "code",
   "execution_count": 30,
   "id": "0b384d4c",
   "metadata": {
    "execution": {
     "iopub.execute_input": "2024-09-08T09:35:08.838274Z",
     "iopub.status.busy": "2024-09-08T09:35:08.837799Z",
     "iopub.status.idle": "2024-09-08T09:35:08.847242Z",
     "shell.execute_reply": "2024-09-08T09:35:08.845807Z"
    },
    "papermill": {
     "duration": 0.04297,
     "end_time": "2024-09-08T09:35:08.850056",
     "exception": false,
     "start_time": "2024-09-08T09:35:08.807086",
     "status": "completed"
    },
    "tags": []
   },
   "outputs": [
    {
     "data": {
      "text/plain": [
       "array([[0.69174798, 0.33008041, 0.50074104, 0.73944916],\n",
       "       [0.6107854 , 0.82911314, 0.13465668, 0.59835238],\n",
       "       [0.66262106, 0.74285586, 0.20040789, 0.57448376],\n",
       "       ...,\n",
       "       [0.67021468, 0.32295592, 0.41081004, 0.66372969],\n",
       "       [0.88584327, 0.90971648, 0.04746514, 0.38812661],\n",
       "       [0.44485069, 0.51413045, 0.21666098, 0.82798585]])"
      ]
     },
     "execution_count": 30,
     "metadata": {},
     "output_type": "execute_result"
    }
   ],
   "source": [
    "scaled_X_test"
   ]
  },
  {
   "cell_type": "code",
   "execution_count": 31,
   "id": "959829fb",
   "metadata": {
    "execution": {
     "iopub.execute_input": "2024-09-08T09:35:08.910330Z",
     "iopub.status.busy": "2024-09-08T09:35:08.909853Z",
     "iopub.status.idle": "2024-09-08T09:35:08.915198Z",
     "shell.execute_reply": "2024-09-08T09:35:08.914019Z"
    },
    "papermill": {
     "duration": 0.038467,
     "end_time": "2024-09-08T09:35:08.917832",
     "exception": false,
     "start_time": "2024-09-08T09:35:08.879365",
     "status": "completed"
    },
    "tags": []
   },
   "outputs": [],
   "source": [
    "# Spits out probabilities by default.\n",
    "# model.predict(scaled_X_test)"
   ]
  },
  {
   "cell_type": "code",
   "execution_count": 32,
   "id": "f862b521",
   "metadata": {
    "execution": {
     "iopub.execute_input": "2024-09-08T09:35:08.978339Z",
     "iopub.status.busy": "2024-09-08T09:35:08.977860Z",
     "iopub.status.idle": "2024-09-08T09:35:09.179510Z",
     "shell.execute_reply": "2024-09-08T09:35:09.178108Z"
    },
    "papermill": {
     "duration": 0.234733,
     "end_time": "2024-09-08T09:35:09.182353",
     "exception": false,
     "start_time": "2024-09-08T09:35:08.947620",
     "status": "completed"
    },
    "tags": []
   },
   "outputs": [
    {
     "name": "stdout",
     "output_type": "stream",
     "text": [
      "\u001b[1m15/15\u001b[0m \u001b[32m━━━━━━━━━━━━━━━━━━━━\u001b[0m\u001b[37m\u001b[0m \u001b[1m0s\u001b[0m 4ms/step\n"
     ]
    }
   ],
   "source": [
    "# Assuming model is your Keras Sequential model\n",
    "predictions = model.predict(scaled_X_test)\n",
    "predicted_classes = np.where(predictions > 0.5, 1, 0)"
   ]
  },
  {
   "cell_type": "code",
   "execution_count": 33,
   "id": "f069de82",
   "metadata": {
    "execution": {
     "iopub.execute_input": "2024-09-08T09:35:09.242571Z",
     "iopub.status.busy": "2024-09-08T09:35:09.241512Z",
     "iopub.status.idle": "2024-09-08T09:35:09.248923Z",
     "shell.execute_reply": "2024-09-08T09:35:09.247615Z"
    },
    "papermill": {
     "duration": 0.040098,
     "end_time": "2024-09-08T09:35:09.251411",
     "exception": false,
     "start_time": "2024-09-08T09:35:09.211313",
     "status": "completed"
    },
    "tags": []
   },
   "outputs": [
    {
     "name": "stdout",
     "output_type": "stream",
     "text": [
      "[[nan]\n",
      " [nan]\n",
      " [nan]\n",
      " [nan]\n",
      " [nan]]\n"
     ]
    }
   ],
   "source": [
    "# Print the predicted probabilities for the first 5 samples\n",
    "print(predictions[:5])"
   ]
  },
  {
   "cell_type": "code",
   "execution_count": 34,
   "id": "c14d4667",
   "metadata": {
    "execution": {
     "iopub.execute_input": "2024-09-08T09:35:09.312240Z",
     "iopub.status.busy": "2024-09-08T09:35:09.311249Z",
     "iopub.status.idle": "2024-09-08T09:35:09.326906Z",
     "shell.execute_reply": "2024-09-08T09:35:09.325512Z"
    },
    "papermill": {
     "duration": 0.049118,
     "end_time": "2024-09-08T09:35:09.329539",
     "exception": false,
     "start_time": "2024-09-08T09:35:09.280421",
     "status": "completed"
    },
    "tags": []
   },
   "outputs": [
    {
     "data": {
      "text/plain": [
       "array([[0],\n",
       "       [0],\n",
       "       [0],\n",
       "       [0],\n",
       "       [0],\n",
       "       [0],\n",
       "       [0],\n",
       "       [0],\n",
       "       [0],\n",
       "       [0],\n",
       "       [0],\n",
       "       [0],\n",
       "       [0],\n",
       "       [0],\n",
       "       [0],\n",
       "       [0],\n",
       "       [0],\n",
       "       [0],\n",
       "       [0],\n",
       "       [0],\n",
       "       [0],\n",
       "       [0],\n",
       "       [0],\n",
       "       [0],\n",
       "       [0],\n",
       "       [0],\n",
       "       [0],\n",
       "       [0],\n",
       "       [0],\n",
       "       [0],\n",
       "       [0],\n",
       "       [0],\n",
       "       [0],\n",
       "       [0],\n",
       "       [0],\n",
       "       [0],\n",
       "       [0],\n",
       "       [0],\n",
       "       [0],\n",
       "       [0],\n",
       "       [0],\n",
       "       [0],\n",
       "       [0],\n",
       "       [0],\n",
       "       [0],\n",
       "       [0],\n",
       "       [0],\n",
       "       [0],\n",
       "       [0],\n",
       "       [0],\n",
       "       [0],\n",
       "       [0],\n",
       "       [0],\n",
       "       [0],\n",
       "       [0],\n",
       "       [0],\n",
       "       [0],\n",
       "       [0],\n",
       "       [0],\n",
       "       [0],\n",
       "       [0],\n",
       "       [0],\n",
       "       [0],\n",
       "       [0],\n",
       "       [0],\n",
       "       [0],\n",
       "       [0],\n",
       "       [0],\n",
       "       [0],\n",
       "       [0],\n",
       "       [0],\n",
       "       [0],\n",
       "       [0],\n",
       "       [0],\n",
       "       [0],\n",
       "       [0],\n",
       "       [0],\n",
       "       [0],\n",
       "       [0],\n",
       "       [0],\n",
       "       [0],\n",
       "       [0],\n",
       "       [0],\n",
       "       [0],\n",
       "       [0],\n",
       "       [0],\n",
       "       [0],\n",
       "       [0],\n",
       "       [0],\n",
       "       [0],\n",
       "       [0],\n",
       "       [0],\n",
       "       [0],\n",
       "       [0],\n",
       "       [0],\n",
       "       [0],\n",
       "       [0],\n",
       "       [0],\n",
       "       [0],\n",
       "       [0],\n",
       "       [0],\n",
       "       [0],\n",
       "       [0],\n",
       "       [0],\n",
       "       [0],\n",
       "       [0],\n",
       "       [0],\n",
       "       [0],\n",
       "       [0],\n",
       "       [0],\n",
       "       [0],\n",
       "       [0],\n",
       "       [0],\n",
       "       [0],\n",
       "       [0],\n",
       "       [0],\n",
       "       [0],\n",
       "       [0],\n",
       "       [0],\n",
       "       [0],\n",
       "       [0],\n",
       "       [0],\n",
       "       [0],\n",
       "       [0],\n",
       "       [0],\n",
       "       [0],\n",
       "       [0],\n",
       "       [0],\n",
       "       [0],\n",
       "       [0],\n",
       "       [0],\n",
       "       [0],\n",
       "       [0],\n",
       "       [0],\n",
       "       [0],\n",
       "       [0],\n",
       "       [0],\n",
       "       [0],\n",
       "       [0],\n",
       "       [0],\n",
       "       [0],\n",
       "       [0],\n",
       "       [0],\n",
       "       [0],\n",
       "       [0],\n",
       "       [0],\n",
       "       [0],\n",
       "       [0],\n",
       "       [0],\n",
       "       [0],\n",
       "       [0],\n",
       "       [0],\n",
       "       [0],\n",
       "       [0],\n",
       "       [0],\n",
       "       [0],\n",
       "       [0],\n",
       "       [0],\n",
       "       [0],\n",
       "       [0],\n",
       "       [0],\n",
       "       [0],\n",
       "       [0],\n",
       "       [0],\n",
       "       [0],\n",
       "       [0],\n",
       "       [0],\n",
       "       [0],\n",
       "       [0],\n",
       "       [0],\n",
       "       [0],\n",
       "       [0],\n",
       "       [0],\n",
       "       [0],\n",
       "       [0],\n",
       "       [0],\n",
       "       [0],\n",
       "       [0],\n",
       "       [0],\n",
       "       [0],\n",
       "       [0],\n",
       "       [0],\n",
       "       [0],\n",
       "       [0],\n",
       "       [0],\n",
       "       [0],\n",
       "       [0],\n",
       "       [0],\n",
       "       [0],\n",
       "       [0],\n",
       "       [0],\n",
       "       [0],\n",
       "       [0],\n",
       "       [0],\n",
       "       [0],\n",
       "       [0],\n",
       "       [0],\n",
       "       [0],\n",
       "       [0],\n",
       "       [0],\n",
       "       [0],\n",
       "       [0],\n",
       "       [0],\n",
       "       [0],\n",
       "       [0],\n",
       "       [0],\n",
       "       [0],\n",
       "       [0],\n",
       "       [0],\n",
       "       [0],\n",
       "       [0],\n",
       "       [0],\n",
       "       [0],\n",
       "       [0],\n",
       "       [0],\n",
       "       [0],\n",
       "       [0],\n",
       "       [0],\n",
       "       [0],\n",
       "       [0],\n",
       "       [0],\n",
       "       [0],\n",
       "       [0],\n",
       "       [0],\n",
       "       [0],\n",
       "       [0],\n",
       "       [0],\n",
       "       [0],\n",
       "       [0],\n",
       "       [0],\n",
       "       [0],\n",
       "       [0],\n",
       "       [0],\n",
       "       [0],\n",
       "       [0],\n",
       "       [0],\n",
       "       [0],\n",
       "       [0],\n",
       "       [0],\n",
       "       [0],\n",
       "       [0],\n",
       "       [0],\n",
       "       [0],\n",
       "       [0],\n",
       "       [0],\n",
       "       [0],\n",
       "       [0],\n",
       "       [0],\n",
       "       [0],\n",
       "       [0],\n",
       "       [0],\n",
       "       [0],\n",
       "       [0],\n",
       "       [0],\n",
       "       [0],\n",
       "       [0],\n",
       "       [0],\n",
       "       [0],\n",
       "       [0],\n",
       "       [0],\n",
       "       [0],\n",
       "       [0],\n",
       "       [0],\n",
       "       [0],\n",
       "       [0],\n",
       "       [0],\n",
       "       [0],\n",
       "       [0],\n",
       "       [0],\n",
       "       [0],\n",
       "       [0],\n",
       "       [0],\n",
       "       [0],\n",
       "       [0],\n",
       "       [0],\n",
       "       [0],\n",
       "       [0],\n",
       "       [0],\n",
       "       [0],\n",
       "       [0],\n",
       "       [0],\n",
       "       [0],\n",
       "       [0],\n",
       "       [0],\n",
       "       [0],\n",
       "       [0],\n",
       "       [0],\n",
       "       [0],\n",
       "       [0],\n",
       "       [0],\n",
       "       [0],\n",
       "       [0],\n",
       "       [0],\n",
       "       [0],\n",
       "       [0],\n",
       "       [0],\n",
       "       [0],\n",
       "       [0],\n",
       "       [0],\n",
       "       [0],\n",
       "       [0],\n",
       "       [0],\n",
       "       [0],\n",
       "       [0],\n",
       "       [0],\n",
       "       [0],\n",
       "       [0],\n",
       "       [0],\n",
       "       [0],\n",
       "       [0],\n",
       "       [0],\n",
       "       [0],\n",
       "       [0],\n",
       "       [0],\n",
       "       [0],\n",
       "       [0],\n",
       "       [0],\n",
       "       [0],\n",
       "       [0],\n",
       "       [0],\n",
       "       [0],\n",
       "       [0],\n",
       "       [0],\n",
       "       [0],\n",
       "       [0],\n",
       "       [0],\n",
       "       [0],\n",
       "       [0],\n",
       "       [0],\n",
       "       [0],\n",
       "       [0],\n",
       "       [0],\n",
       "       [0],\n",
       "       [0],\n",
       "       [0],\n",
       "       [0],\n",
       "       [0],\n",
       "       [0],\n",
       "       [0],\n",
       "       [0],\n",
       "       [0],\n",
       "       [0],\n",
       "       [0],\n",
       "       [0],\n",
       "       [0],\n",
       "       [0],\n",
       "       [0],\n",
       "       [0],\n",
       "       [0],\n",
       "       [0],\n",
       "       [0],\n",
       "       [0],\n",
       "       [0],\n",
       "       [0],\n",
       "       [0],\n",
       "       [0],\n",
       "       [0],\n",
       "       [0],\n",
       "       [0],\n",
       "       [0],\n",
       "       [0],\n",
       "       [0],\n",
       "       [0],\n",
       "       [0],\n",
       "       [0],\n",
       "       [0],\n",
       "       [0],\n",
       "       [0],\n",
       "       [0],\n",
       "       [0],\n",
       "       [0],\n",
       "       [0],\n",
       "       [0],\n",
       "       [0],\n",
       "       [0],\n",
       "       [0],\n",
       "       [0],\n",
       "       [0],\n",
       "       [0],\n",
       "       [0],\n",
       "       [0],\n",
       "       [0],\n",
       "       [0],\n",
       "       [0],\n",
       "       [0],\n",
       "       [0],\n",
       "       [0],\n",
       "       [0],\n",
       "       [0],\n",
       "       [0],\n",
       "       [0],\n",
       "       [0],\n",
       "       [0],\n",
       "       [0],\n",
       "       [0],\n",
       "       [0],\n",
       "       [0],\n",
       "       [0],\n",
       "       [0],\n",
       "       [0],\n",
       "       [0],\n",
       "       [0],\n",
       "       [0],\n",
       "       [0],\n",
       "       [0],\n",
       "       [0],\n",
       "       [0],\n",
       "       [0],\n",
       "       [0],\n",
       "       [0],\n",
       "       [0],\n",
       "       [0],\n",
       "       [0],\n",
       "       [0],\n",
       "       [0],\n",
       "       [0],\n",
       "       [0],\n",
       "       [0],\n",
       "       [0],\n",
       "       [0],\n",
       "       [0],\n",
       "       [0],\n",
       "       [0],\n",
       "       [0],\n",
       "       [0],\n",
       "       [0],\n",
       "       [0],\n",
       "       [0],\n",
       "       [0],\n",
       "       [0],\n",
       "       [0],\n",
       "       [0],\n",
       "       [0],\n",
       "       [0],\n",
       "       [0],\n",
       "       [0],\n",
       "       [0],\n",
       "       [0],\n",
       "       [0],\n",
       "       [0],\n",
       "       [0],\n",
       "       [0],\n",
       "       [0],\n",
       "       [0],\n",
       "       [0],\n",
       "       [0],\n",
       "       [0],\n",
       "       [0],\n",
       "       [0],\n",
       "       [0],\n",
       "       [0],\n",
       "       [0],\n",
       "       [0],\n",
       "       [0]])"
      ]
     },
     "execution_count": 34,
     "metadata": {},
     "output_type": "execute_result"
    }
   ],
   "source": [
    "predicted_classes"
   ]
  },
  {
   "cell_type": "markdown",
   "id": "09264cb6",
   "metadata": {
    "papermill": {
     "duration": 0.030246,
     "end_time": "2024-09-08T09:35:09.390907",
     "exception": false,
     "start_time": "2024-09-08T09:35:09.360661",
     "status": "completed"
    },
    "tags": []
   },
   "source": [
    "# Evaluating Model Performance\n",
    "\n",
    "So how well did we do? How do we actually measure \"well\". Is 95% accuracy good enough? It all depends on the situation. Also we need to take into account things like recall and precision. Make sure to watch the video discussion on classification evaluation before running this code!"
   ]
  },
  {
   "cell_type": "code",
   "execution_count": 35,
   "id": "ffa09995",
   "metadata": {
    "execution": {
     "iopub.execute_input": "2024-09-08T09:35:09.452365Z",
     "iopub.status.busy": "2024-09-08T09:35:09.451914Z",
     "iopub.status.idle": "2024-09-08T09:35:09.459473Z",
     "shell.execute_reply": "2024-09-08T09:35:09.458216Z"
    },
    "papermill": {
     "duration": 0.041869,
     "end_time": "2024-09-08T09:35:09.462491",
     "exception": false,
     "start_time": "2024-09-08T09:35:09.420622",
     "status": "completed"
    },
    "tags": []
   },
   "outputs": [
    {
     "data": {
      "text/plain": [
       "['loss', 'compile_metrics']"
      ]
     },
     "execution_count": 35,
     "metadata": {},
     "output_type": "execute_result"
    }
   ],
   "source": [
    "model.metrics_names"
   ]
  },
  {
   "cell_type": "code",
   "execution_count": 36,
   "id": "b8184832",
   "metadata": {
    "execution": {
     "iopub.execute_input": "2024-09-08T09:35:09.526310Z",
     "iopub.status.busy": "2024-09-08T09:35:09.525272Z",
     "iopub.status.idle": "2024-09-08T09:35:09.799041Z",
     "shell.execute_reply": "2024-09-08T09:35:09.797627Z"
    },
    "papermill": {
     "duration": 0.308194,
     "end_time": "2024-09-08T09:35:09.801596",
     "exception": false,
     "start_time": "2024-09-08T09:35:09.493402",
     "status": "completed"
    },
    "tags": []
   },
   "outputs": [
    {
     "name": "stdout",
     "output_type": "stream",
     "text": [
      "\u001b[1m15/15\u001b[0m \u001b[32m━━━━━━━━━━━━━━━━━━━━\u001b[0m\u001b[37m\u001b[0m \u001b[1m0s\u001b[0m 1ms/step - accuracy: 0.5625 - loss: nan  \n"
     ]
    },
    {
     "data": {
      "text/plain": [
       "[nan, 0.566079318523407]"
      ]
     },
     "execution_count": 36,
     "metadata": {},
     "output_type": "execute_result"
    }
   ],
   "source": [
    "model.evaluate(x=scaled_X_test,y=y_test)"
   ]
  },
  {
   "cell_type": "code",
   "execution_count": 37,
   "id": "c4888edd",
   "metadata": {
    "execution": {
     "iopub.execute_input": "2024-09-08T09:35:09.865520Z",
     "iopub.status.busy": "2024-09-08T09:35:09.864537Z",
     "iopub.status.idle": "2024-09-08T09:35:09.871120Z",
     "shell.execute_reply": "2024-09-08T09:35:09.869649Z"
    },
    "papermill": {
     "duration": 0.042106,
     "end_time": "2024-09-08T09:35:09.873840",
     "exception": false,
     "start_time": "2024-09-08T09:35:09.831734",
     "status": "completed"
    },
    "tags": []
   },
   "outputs": [],
   "source": [
    "from sklearn.metrics import confusion_matrix,classification_report"
   ]
  },
  {
   "cell_type": "code",
   "execution_count": 38,
   "id": "178296b6",
   "metadata": {
    "execution": {
     "iopub.execute_input": "2024-09-08T09:35:09.936945Z",
     "iopub.status.busy": "2024-09-08T09:35:09.936459Z",
     "iopub.status.idle": "2024-09-08T09:35:10.052180Z",
     "shell.execute_reply": "2024-09-08T09:35:10.050815Z"
    },
    "papermill": {
     "duration": 0.150612,
     "end_time": "2024-09-08T09:35:10.055139",
     "exception": false,
     "start_time": "2024-09-08T09:35:09.904527",
     "status": "completed"
    },
    "tags": []
   },
   "outputs": [
    {
     "name": "stdout",
     "output_type": "stream",
     "text": [
      "\u001b[1m15/15\u001b[0m \u001b[32m━━━━━━━━━━━━━━━━━━━━\u001b[0m\u001b[37m\u001b[0m \u001b[1m0s\u001b[0m 2ms/step \n"
     ]
    }
   ],
   "source": [
    "#predictions = model.predict_classes(scaled_X_test)\n",
    "\n",
    "predictions = model.predict(scaled_X_test)\n",
    "predicted_classes = np.where(predictions > 0.5, 1, 0)"
   ]
  },
  {
   "cell_type": "code",
   "execution_count": 39,
   "id": "3b10de1d",
   "metadata": {
    "execution": {
     "iopub.execute_input": "2024-09-08T09:35:10.120348Z",
     "iopub.status.busy": "2024-09-08T09:35:10.119858Z",
     "iopub.status.idle": "2024-09-08T09:35:10.131143Z",
     "shell.execute_reply": "2024-09-08T09:35:10.129797Z"
    },
    "papermill": {
     "duration": 0.046724,
     "end_time": "2024-09-08T09:35:10.133930",
     "exception": false,
     "start_time": "2024-09-08T09:35:10.087206",
     "status": "completed"
    },
    "tags": []
   },
   "outputs": [
    {
     "data": {
      "text/plain": [
       "array([[257,   0],\n",
       "       [197,   0]])"
      ]
     },
     "execution_count": 39,
     "metadata": {},
     "output_type": "execute_result"
    }
   ],
   "source": [
    "confusion_matrix(y_test,predicted_classes)"
   ]
  },
  {
   "cell_type": "code",
   "execution_count": 40,
   "id": "0db37a28",
   "metadata": {
    "execution": {
     "iopub.execute_input": "2024-09-08T09:35:10.200199Z",
     "iopub.status.busy": "2024-09-08T09:35:10.199679Z",
     "iopub.status.idle": "2024-09-08T09:35:10.221209Z",
     "shell.execute_reply": "2024-09-08T09:35:10.219994Z"
    },
    "papermill": {
     "duration": 0.059588,
     "end_time": "2024-09-08T09:35:10.225244",
     "exception": false,
     "start_time": "2024-09-08T09:35:10.165656",
     "status": "completed"
    },
    "tags": []
   },
   "outputs": [
    {
     "name": "stdout",
     "output_type": "stream",
     "text": [
      "              precision    recall  f1-score   support\n",
      "\n",
      "         0.0       0.57      1.00      0.72       257\n",
      "         1.0       0.00      0.00      0.00       197\n",
      "\n",
      "    accuracy                           0.57       454\n",
      "   macro avg       0.28      0.50      0.36       454\n",
      "weighted avg       0.32      0.57      0.41       454\n",
      "\n"
     ]
    },
    {
     "name": "stderr",
     "output_type": "stream",
     "text": [
      "/opt/conda/lib/python3.10/site-packages/sklearn/metrics/_classification.py:1344: UndefinedMetricWarning: Precision and F-score are ill-defined and being set to 0.0 in labels with no predicted samples. Use `zero_division` parameter to control this behavior.\n",
      "  _warn_prf(average, modifier, msg_start, len(result))\n",
      "/opt/conda/lib/python3.10/site-packages/sklearn/metrics/_classification.py:1344: UndefinedMetricWarning: Precision and F-score are ill-defined and being set to 0.0 in labels with no predicted samples. Use `zero_division` parameter to control this behavior.\n",
      "  _warn_prf(average, modifier, msg_start, len(result))\n",
      "/opt/conda/lib/python3.10/site-packages/sklearn/metrics/_classification.py:1344: UndefinedMetricWarning: Precision and F-score are ill-defined and being set to 0.0 in labels with no predicted samples. Use `zero_division` parameter to control this behavior.\n",
      "  _warn_prf(average, modifier, msg_start, len(result))\n"
     ]
    }
   ],
   "source": [
    "print(classification_report(y_test,predicted_classes))"
   ]
  },
  {
   "cell_type": "markdown",
   "id": "d41e8c23",
   "metadata": {
    "papermill": {
     "duration": 0.03076,
     "end_time": "2024-09-08T09:35:10.287230",
     "exception": false,
     "start_time": "2024-09-08T09:35:10.256470",
     "status": "completed"
    },
    "tags": []
   },
   "source": [
    "## Saving and Loading Models\n",
    "\n",
    "Now that we have a model trained, let's see how we can save and load it."
   ]
  },
  {
   "cell_type": "code",
   "execution_count": 41,
   "id": "c2e1638f",
   "metadata": {
    "execution": {
     "iopub.execute_input": "2024-09-08T09:35:10.350660Z",
     "iopub.status.busy": "2024-09-08T09:35:10.350194Z",
     "iopub.status.idle": "2024-09-08T09:35:10.393191Z",
     "shell.execute_reply": "2024-09-08T09:35:10.391752Z"
    },
    "papermill": {
     "duration": 0.078404,
     "end_time": "2024-09-08T09:35:10.396246",
     "exception": false,
     "start_time": "2024-09-08T09:35:10.317842",
     "status": "completed"
    },
    "tags": []
   },
   "outputs": [],
   "source": [
    "model.save('myfirstmodel.h5')"
   ]
  },
  {
   "cell_type": "code",
   "execution_count": 42,
   "id": "63d48cfe",
   "metadata": {
    "execution": {
     "iopub.execute_input": "2024-09-08T09:35:10.461540Z",
     "iopub.status.busy": "2024-09-08T09:35:10.461076Z",
     "iopub.status.idle": "2024-09-08T09:35:10.466936Z",
     "shell.execute_reply": "2024-09-08T09:35:10.465642Z"
    },
    "papermill": {
     "duration": 0.04176,
     "end_time": "2024-09-08T09:35:10.469651",
     "exception": false,
     "start_time": "2024-09-08T09:35:10.427891",
     "status": "completed"
    },
    "tags": []
   },
   "outputs": [],
   "source": [
    "from keras.models import load_model"
   ]
  },
  {
   "cell_type": "code",
   "execution_count": 43,
   "id": "b8eb262c",
   "metadata": {
    "execution": {
     "iopub.execute_input": "2024-09-08T09:35:10.535245Z",
     "iopub.status.busy": "2024-09-08T09:35:10.534785Z",
     "iopub.status.idle": "2024-09-08T09:35:10.598129Z",
     "shell.execute_reply": "2024-09-08T09:35:10.596864Z"
    },
    "papermill": {
     "duration": 0.099943,
     "end_time": "2024-09-08T09:35:10.601097",
     "exception": false,
     "start_time": "2024-09-08T09:35:10.501154",
     "status": "completed"
    },
    "tags": []
   },
   "outputs": [],
   "source": [
    "newmodel = load_model('myfirstmodel.h5')"
   ]
  },
  {
   "cell_type": "code",
   "execution_count": 44,
   "id": "f81b5ab7",
   "metadata": {
    "execution": {
     "iopub.execute_input": "2024-09-08T09:35:10.666403Z",
     "iopub.status.busy": "2024-09-08T09:35:10.665954Z",
     "iopub.status.idle": "2024-09-08T09:35:10.671238Z",
     "shell.execute_reply": "2024-09-08T09:35:10.670041Z"
    },
    "papermill": {
     "duration": 0.039983,
     "end_time": "2024-09-08T09:35:10.673648",
     "exception": false,
     "start_time": "2024-09-08T09:35:10.633665",
     "status": "completed"
    },
    "tags": []
   },
   "outputs": [],
   "source": [
    "#newmodel.predict_classes(X_test)\n",
    "\n",
    "#Need to change this code according to the new approach"
   ]
  },
  {
   "cell_type": "markdown",
   "id": "2fca9faa",
   "metadata": {
    "papermill": {
     "duration": 0.030554,
     "end_time": "2024-09-08T09:35:10.735088",
     "exception": false,
     "start_time": "2024-09-08T09:35:10.704534",
     "status": "completed"
    },
    "tags": []
   },
   "source": [
    "Great job! You now know how to preprocess data, train a neural network, and evaluate its classification performance!"
   ]
  }
 ],
 "metadata": {
  "kaggle": {
   "accelerator": "none",
   "dataSources": [],
   "dockerImageVersionId": 30761,
   "isGpuEnabled": false,
   "isInternetEnabled": true,
   "language": "python",
   "sourceType": "notebook"
  },
  "kernelspec": {
   "display_name": "Python 3",
   "language": "python",
   "name": "python3"
  },
  "language_info": {
   "codemirror_mode": {
    "name": "ipython",
    "version": 3
   },
   "file_extension": ".py",
   "mimetype": "text/x-python",
   "name": "python",
   "nbconvert_exporter": "python",
   "pygments_lexer": "ipython3",
   "version": "3.10.14"
  },
  "papermill": {
   "default_parameters": {},
   "duration": 51.41574,
   "end_time": "2024-09-08T09:35:12.593894",
   "environment_variables": {},
   "exception": null,
   "input_path": "__notebook__.ipynb",
   "output_path": "__notebook__.ipynb",
   "parameters": {},
   "start_time": "2024-09-08T09:34:21.178154",
   "version": "2.6.0"
  }
 },
 "nbformat": 4,
 "nbformat_minor": 5
}
